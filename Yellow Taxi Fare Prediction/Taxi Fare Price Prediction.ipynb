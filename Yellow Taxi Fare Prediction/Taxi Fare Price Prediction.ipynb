{
 "cells": [
  {
   "cell_type": "code",
   "execution_count": 1,
   "id": "6ec9e567-5f7a-478b-b763-e301a6db16be",
   "metadata": {},
   "outputs": [],
   "source": [
    "import pandas as pd \n",
    "import os\n",
    "import numpy as  np\n",
    "import matplotlib.pyplot as plt \n",
    "import seaborn as sns\n",
    "from sklearn import metrics\n",
    "from sklearn.model_selection import train_test_split\n",
    "from sklearn.linear_model import LinearRegression\n",
    "from sklearn.preprocessing import StandardScaler, MinMaxScaler\n",
    "from scipy import stats\n",
    "from sklearn.feature_selection import RFE"
   ]
  },
  {
   "cell_type": "code",
   "execution_count": 2,
   "id": "544916a9-60c4-4785-a070-1ca2d6e38b0a",
   "metadata": {},
   "outputs": [
    {
     "data": {
      "text/html": [
       "<div>\n",
       "<style scoped>\n",
       "    .dataframe tbody tr th:only-of-type {\n",
       "        vertical-align: middle;\n",
       "    }\n",
       "\n",
       "    .dataframe tbody tr th {\n",
       "        vertical-align: top;\n",
       "    }\n",
       "\n",
       "    .dataframe thead th {\n",
       "        text-align: right;\n",
       "    }\n",
       "</style>\n",
       "<table border=\"1\" class=\"dataframe\">\n",
       "  <thead>\n",
       "    <tr style=\"text-align: right;\">\n",
       "      <th></th>\n",
       "      <th>VendorID</th>\n",
       "      <th>tpep_pickup_datetime</th>\n",
       "      <th>tpep_dropoff_datetime</th>\n",
       "      <th>passenger_count</th>\n",
       "      <th>trip_distance</th>\n",
       "      <th>RatecodeID</th>\n",
       "      <th>store_and_fwd_flag</th>\n",
       "      <th>PULocationID</th>\n",
       "      <th>DOLocationID</th>\n",
       "      <th>payment_type</th>\n",
       "      <th>fare_amount</th>\n",
       "      <th>extra</th>\n",
       "      <th>mta_tax</th>\n",
       "      <th>tip_amount</th>\n",
       "      <th>tolls_amount</th>\n",
       "      <th>improvement_surcharge</th>\n",
       "      <th>total_amount</th>\n",
       "      <th>congestion_surcharge</th>\n",
       "      <th>Airport_fee</th>\n",
       "    </tr>\n",
       "  </thead>\n",
       "  <tbody>\n",
       "    <tr>\n",
       "      <th>0</th>\n",
       "      <td>1</td>\n",
       "      <td>2024-03-01 00:18:51</td>\n",
       "      <td>2024-03-01 00:23:45</td>\n",
       "      <td>0.0</td>\n",
       "      <td>1.3</td>\n",
       "      <td>1.0</td>\n",
       "      <td>N</td>\n",
       "      <td>142</td>\n",
       "      <td>239</td>\n",
       "      <td>1</td>\n",
       "      <td>8.6</td>\n",
       "      <td>3.5</td>\n",
       "      <td>0.5</td>\n",
       "      <td>2.7</td>\n",
       "      <td>0.0</td>\n",
       "      <td>1.0</td>\n",
       "      <td>16.3</td>\n",
       "      <td>2.5</td>\n",
       "      <td>0.0</td>\n",
       "    </tr>\n",
       "    <tr>\n",
       "      <th>1</th>\n",
       "      <td>1</td>\n",
       "      <td>2024-03-01 00:26:00</td>\n",
       "      <td>2024-03-01 00:29:06</td>\n",
       "      <td>0.0</td>\n",
       "      <td>1.1</td>\n",
       "      <td>1.0</td>\n",
       "      <td>N</td>\n",
       "      <td>238</td>\n",
       "      <td>24</td>\n",
       "      <td>1</td>\n",
       "      <td>7.2</td>\n",
       "      <td>3.5</td>\n",
       "      <td>0.5</td>\n",
       "      <td>3.0</td>\n",
       "      <td>0.0</td>\n",
       "      <td>1.0</td>\n",
       "      <td>15.2</td>\n",
       "      <td>2.5</td>\n",
       "      <td>0.0</td>\n",
       "    </tr>\n",
       "  </tbody>\n",
       "</table>\n",
       "</div>"
      ],
      "text/plain": [
       "   VendorID tpep_pickup_datetime tpep_dropoff_datetime  passenger_count  \\\n",
       "0         1  2024-03-01 00:18:51   2024-03-01 00:23:45              0.0   \n",
       "1         1  2024-03-01 00:26:00   2024-03-01 00:29:06              0.0   \n",
       "\n",
       "   trip_distance  RatecodeID store_and_fwd_flag  PULocationID  DOLocationID  \\\n",
       "0            1.3         1.0                  N           142           239   \n",
       "1            1.1         1.0                  N           238            24   \n",
       "\n",
       "   payment_type  fare_amount  extra  mta_tax  tip_amount  tolls_amount  \\\n",
       "0             1          8.6    3.5      0.5         2.7           0.0   \n",
       "1             1          7.2    3.5      0.5         3.0           0.0   \n",
       "\n",
       "   improvement_surcharge  total_amount  congestion_surcharge  Airport_fee  \n",
       "0                    1.0          16.3                   2.5          0.0  \n",
       "1                    1.0          15.2                   2.5          0.0  "
      ]
     },
     "execution_count": 2,
     "metadata": {},
     "output_type": "execute_result"
    }
   ],
   "source": [
    "df = pd.read_parquet(r'C:\\Users\\manis\\Downloads\\yellow_tripdata_2024-03.parquet')\n",
    "df.head(2)"
   ]
  },
  {
   "cell_type": "code",
   "execution_count": 3,
   "id": "6386a389-8f3f-4ea8-bc64-3c0bf24073ac",
   "metadata": {},
   "outputs": [
    {
     "data": {
      "text/plain": [
       "(3582628, 19)"
      ]
     },
     "execution_count": 3,
     "metadata": {},
     "output_type": "execute_result"
    }
   ],
   "source": [
    "df.shape"
   ]
  },
  {
   "cell_type": "code",
   "execution_count": 4,
   "id": "7c0cc30e-52bb-4ade-9c4b-7560f16d31fe",
   "metadata": {},
   "outputs": [
    {
     "data": {
      "text/html": [
       "<div>\n",
       "<style scoped>\n",
       "    .dataframe tbody tr th:only-of-type {\n",
       "        vertical-align: middle;\n",
       "    }\n",
       "\n",
       "    .dataframe tbody tr th {\n",
       "        vertical-align: top;\n",
       "    }\n",
       "\n",
       "    .dataframe thead th {\n",
       "        text-align: right;\n",
       "    }\n",
       "</style>\n",
       "<table border=\"1\" class=\"dataframe\">\n",
       "  <thead>\n",
       "    <tr style=\"text-align: right;\">\n",
       "      <th></th>\n",
       "      <th>VendorID</th>\n",
       "      <th>tpep_pickup_datetime</th>\n",
       "      <th>tpep_dropoff_datetime</th>\n",
       "      <th>passenger_count</th>\n",
       "      <th>trip_distance</th>\n",
       "      <th>RatecodeID</th>\n",
       "      <th>store_and_fwd_flag</th>\n",
       "      <th>PULocationID</th>\n",
       "      <th>DOLocationID</th>\n",
       "      <th>payment_type</th>\n",
       "      <th>fare_amount</th>\n",
       "      <th>extra</th>\n",
       "      <th>mta_tax</th>\n",
       "      <th>tip_amount</th>\n",
       "      <th>tolls_amount</th>\n",
       "      <th>improvement_surcharge</th>\n",
       "      <th>total_amount</th>\n",
       "      <th>congestion_surcharge</th>\n",
       "      <th>Airport_fee</th>\n",
       "    </tr>\n",
       "  </thead>\n",
       "  <tbody>\n",
       "    <tr>\n",
       "      <th>879093</th>\n",
       "      <td>2</td>\n",
       "      <td>2024-03-09 14:41:15</td>\n",
       "      <td>2024-03-09 14:51:08</td>\n",
       "      <td>5.0</td>\n",
       "      <td>1.19</td>\n",
       "      <td>1.0</td>\n",
       "      <td>N</td>\n",
       "      <td>234</td>\n",
       "      <td>170</td>\n",
       "      <td>1</td>\n",
       "      <td>10.7</td>\n",
       "      <td>0.0</td>\n",
       "      <td>0.5</td>\n",
       "      <td>2.94</td>\n",
       "      <td>0.0</td>\n",
       "      <td>1.0</td>\n",
       "      <td>17.64</td>\n",
       "      <td>2.5</td>\n",
       "      <td>0.0</td>\n",
       "    </tr>\n",
       "    <tr>\n",
       "      <th>1897461</th>\n",
       "      <td>1</td>\n",
       "      <td>2024-03-19 13:26:10</td>\n",
       "      <td>2024-03-19 13:45:34</td>\n",
       "      <td>0.0</td>\n",
       "      <td>1.90</td>\n",
       "      <td>1.0</td>\n",
       "      <td>N</td>\n",
       "      <td>264</td>\n",
       "      <td>137</td>\n",
       "      <td>2</td>\n",
       "      <td>17.0</td>\n",
       "      <td>2.5</td>\n",
       "      <td>0.5</td>\n",
       "      <td>0.00</td>\n",
       "      <td>0.0</td>\n",
       "      <td>1.0</td>\n",
       "      <td>21.00</td>\n",
       "      <td>2.5</td>\n",
       "      <td>0.0</td>\n",
       "    </tr>\n",
       "  </tbody>\n",
       "</table>\n",
       "</div>"
      ],
      "text/plain": [
       "         VendorID tpep_pickup_datetime tpep_dropoff_datetime  passenger_count  \\\n",
       "879093          2  2024-03-09 14:41:15   2024-03-09 14:51:08              5.0   \n",
       "1897461         1  2024-03-19 13:26:10   2024-03-19 13:45:34              0.0   \n",
       "\n",
       "         trip_distance  RatecodeID store_and_fwd_flag  PULocationID  \\\n",
       "879093            1.19         1.0                  N           234   \n",
       "1897461           1.90         1.0                  N           264   \n",
       "\n",
       "         DOLocationID  payment_type  fare_amount  extra  mta_tax  tip_amount  \\\n",
       "879093            170             1         10.7    0.0      0.5        2.94   \n",
       "1897461           137             2         17.0    2.5      0.5        0.00   \n",
       "\n",
       "         tolls_amount  improvement_surcharge  total_amount  \\\n",
       "879093            0.0                    1.0         17.64   \n",
       "1897461           0.0                    1.0         21.00   \n",
       "\n",
       "         congestion_surcharge  Airport_fee  \n",
       "879093                    2.5          0.0  \n",
       "1897461                   2.5          0.0  "
      ]
     },
     "execution_count": 4,
     "metadata": {},
     "output_type": "execute_result"
    }
   ],
   "source": [
    "df1 =df.sample(10000)\n",
    "df1.head(2)"
   ]
  },
  {
   "cell_type": "code",
   "execution_count": 6,
   "id": "94860ec1-3356-4464-bde0-a2e33bb39067",
   "metadata": {},
   "outputs": [],
   "source": [
    "df1.to_csv('Yellow_Taxi_data.csv', index = False)"
   ]
  },
  {
   "cell_type": "code",
   "execution_count": 7,
   "id": "2a9f3a22-63dd-4f21-87d5-694c08d656cb",
   "metadata": {},
   "outputs": [
    {
     "data": {
      "text/plain": [
       "(10000, 19)"
      ]
     },
     "execution_count": 7,
     "metadata": {},
     "output_type": "execute_result"
    }
   ],
   "source": [
    "df1.shape"
   ]
  },
  {
   "cell_type": "markdown",
   "id": "d073adad-c416-4ce2-9cda-68c46bf0dba2",
   "metadata": {},
   "source": [
    "# EDA"
   ]
  },
  {
   "cell_type": "code",
   "execution_count": 8,
   "id": "74203e84-6b66-42e9-90f7-23cc6834a36c",
   "metadata": {},
   "outputs": [
    {
     "data": {
      "text/plain": [
       "3"
      ]
     },
     "execution_count": 8,
     "metadata": {},
     "output_type": "execute_result"
    }
   ],
   "source": [
    "df1['VendorID'].nunique()"
   ]
  },
  {
   "cell_type": "code",
   "execution_count": 9,
   "id": "04aaf5bc-03ed-46d2-b67c-6f8437a410c7",
   "metadata": {},
   "outputs": [
    {
     "data": {
      "text/plain": [
       "7"
      ]
     },
     "execution_count": 9,
     "metadata": {},
     "output_type": "execute_result"
    }
   ],
   "source": [
    "df1['passenger_count'].nunique()"
   ]
  },
  {
   "cell_type": "code",
   "execution_count": 10,
   "id": "cf2c652e-053c-40d6-9747-b443a4360594",
   "metadata": {},
   "outputs": [
    {
     "name": "stdout",
     "output_type": "stream",
     "text": [
      "6\n"
     ]
    },
    {
     "data": {
      "text/plain": [
       "RatecodeID\n",
       "1.0     8278\n",
       "2.0      335\n",
       "99.0      97\n",
       "5.0       57\n",
       "3.0       32\n",
       "4.0       17\n",
       "Name: count, dtype: int64"
      ]
     },
     "execution_count": 10,
     "metadata": {},
     "output_type": "execute_result"
    }
   ],
   "source": [
    "print(df1['RatecodeID'].nunique())\n",
    "df1['RatecodeID'].value_counts()"
   ]
  },
  {
   "cell_type": "code",
   "execution_count": 11,
   "id": "a62edb5a-a74f-421d-a30a-c1746b9ff3ee",
   "metadata": {},
   "outputs": [
    {
     "data": {
      "text/plain": [
       "160"
      ]
     },
     "execution_count": 11,
     "metadata": {},
     "output_type": "execute_result"
    }
   ],
   "source": [
    "df1['PULocationID'].nunique()"
   ]
  },
  {
   "cell_type": "code",
   "execution_count": 12,
   "id": "70e05c33-fbb3-46eb-be41-c29156d7df80",
   "metadata": {},
   "outputs": [
    {
     "data": {
      "text/plain": [
       "5"
      ]
     },
     "execution_count": 12,
     "metadata": {},
     "output_type": "execute_result"
    }
   ],
   "source": [
    "df1['payment_type'].nunique()"
   ]
  },
  {
   "cell_type": "code",
   "execution_count": 13,
   "id": "8c39eeea-5504-4b9a-994a-36a1f424a309",
   "metadata": {},
   "outputs": [
    {
     "data": {
      "text/plain": [
       "count    10000.000000\n",
       "mean        18.767416\n",
       "std         17.924701\n",
       "min        -95.400000\n",
       "25%          9.300000\n",
       "50%         13.500000\n",
       "75%         21.900000\n",
       "max        388.000000\n",
       "Name: fare_amount, dtype: float64"
      ]
     },
     "execution_count": 13,
     "metadata": {},
     "output_type": "execute_result"
    }
   ],
   "source": [
    "df1['fare_amount'].describe()"
   ]
  },
  {
   "cell_type": "code",
   "execution_count": 14,
   "id": "2dab07aa-9741-4618-a534-2ab2961aab92",
   "metadata": {},
   "outputs": [
    {
     "name": "stderr",
     "output_type": "stream",
     "text": [
      "C:\\Users\\manis\\anaconda3\\Lib\\site-packages\\seaborn\\_oldcore.py:1119: FutureWarning: use_inf_as_na option is deprecated and will be removed in a future version. Convert inf values to NaN before operating instead.\n",
      "  with pd.option_context('mode.use_inf_as_na', True):\n"
     ]
    },
    {
     "data": {
      "image/png": "[encoded data removed]",
      "text/plain": [
       "<Figure size 640x480 with 1 Axes>"
      ]
     },
     "metadata": {},
     "output_type": "display_data"
    }
   ],
   "source": [
    "sns.histplot(df1['fare_amount'], kde = True)\n",
    "plt.show()"
   ]
  },
  {
   "cell_type": "code",
   "execution_count": 15,
   "id": "01bda4cf-986c-4ce5-8632-7c56e27f8676",
   "metadata": {},
   "outputs": [
    {
     "data": {
      "text/plain": [
       "3.3433928294197583"
      ]
     },
     "execution_count": 15,
     "metadata": {},
     "output_type": "execute_result"
    }
   ],
   "source": [
    "df1['fare_amount'].skew()"
   ]
  },
  {
   "cell_type": "code",
   "execution_count": 16,
   "id": "ff7c3f9d-5b0a-4b9b-b110-ec67152b2f10",
   "metadata": {},
   "outputs": [
    {
     "data": {
      "text/plain": [
       "33.04061395316581"
      ]
     },
     "execution_count": 16,
     "metadata": {},
     "output_type": "execute_result"
    }
   ],
   "source": [
    "df1['fare_amount'].kurt()"
   ]
  },
  {
   "cell_type": "code",
   "execution_count": 17,
   "id": "f449e12c-16b1-488a-bc64-e992c58cd6ed",
   "metadata": {},
   "outputs": [
    {
     "data": {
      "text/plain": [
       "Index(['VendorID', 'tpep_pickup_datetime', 'tpep_dropoff_datetime',\n",
       "       'passenger_count', 'trip_distance', 'RatecodeID', 'store_and_fwd_flag',\n",
       "       'PULocationID', 'DOLocationID', 'payment_type', 'fare_amount', 'extra',\n",
       "       'mta_tax', 'tip_amount', 'tolls_amount', 'improvement_surcharge',\n",
       "       'total_amount', 'congestion_surcharge', 'Airport_fee'],\n",
       "      dtype='object')"
      ]
     },
     "execution_count": 17,
     "metadata": {},
     "output_type": "execute_result"
    }
   ],
   "source": [
    "df1.columns"
   ]
  },
  {
   "cell_type": "code",
   "execution_count": 18,
   "id": "91f6c056-f0f1-4eba-9e31-0cd432ed2fa6",
   "metadata": {},
   "outputs": [
    {
     "data": {
      "text/html": [
       "<div>\n",
       "<style scoped>\n",
       "    .dataframe tbody tr th:only-of-type {\n",
       "        vertical-align: middle;\n",
       "    }\n",
       "\n",
       "    .dataframe tbody tr th {\n",
       "        vertical-align: top;\n",
       "    }\n",
       "\n",
       "    .dataframe thead th {\n",
       "        text-align: right;\n",
       "    }\n",
       "</style>\n",
       "<table border=\"1\" class=\"dataframe\">\n",
       "  <thead>\n",
       "    <tr style=\"text-align: right;\">\n",
       "      <th></th>\n",
       "      <th>VendorID</th>\n",
       "      <th>tpep_pickup_datetime</th>\n",
       "      <th>tpep_dropoff_datetime</th>\n",
       "      <th>passenger_count</th>\n",
       "      <th>trip_distance</th>\n",
       "      <th>RatecodeID</th>\n",
       "      <th>store_and_fwd_flag</th>\n",
       "      <th>PULocationID</th>\n",
       "      <th>DOLocationID</th>\n",
       "      <th>payment_type</th>\n",
       "      <th>fare_amount</th>\n",
       "    </tr>\n",
       "  </thead>\n",
       "  <tbody>\n",
       "    <tr>\n",
       "      <th>879093</th>\n",
       "      <td>2</td>\n",
       "      <td>2024-03-09 14:41:15</td>\n",
       "      <td>2024-03-09 14:51:08</td>\n",
       "      <td>5.0</td>\n",
       "      <td>1.19</td>\n",
       "      <td>1.0</td>\n",
       "      <td>N</td>\n",
       "      <td>234</td>\n",
       "      <td>170</td>\n",
       "      <td>1</td>\n",
       "      <td>10.7</td>\n",
       "    </tr>\n",
       "    <tr>\n",
       "      <th>1897461</th>\n",
       "      <td>1</td>\n",
       "      <td>2024-03-19 13:26:10</td>\n",
       "      <td>2024-03-19 13:45:34</td>\n",
       "      <td>0.0</td>\n",
       "      <td>1.90</td>\n",
       "      <td>1.0</td>\n",
       "      <td>N</td>\n",
       "      <td>264</td>\n",
       "      <td>137</td>\n",
       "      <td>2</td>\n",
       "      <td>17.0</td>\n",
       "    </tr>\n",
       "  </tbody>\n",
       "</table>\n",
       "</div>"
      ],
      "text/plain": [
       "         VendorID tpep_pickup_datetime tpep_dropoff_datetime  passenger_count  \\\n",
       "879093          2  2024-03-09 14:41:15   2024-03-09 14:51:08              5.0   \n",
       "1897461         1  2024-03-19 13:26:10   2024-03-19 13:45:34              0.0   \n",
       "\n",
       "         trip_distance  RatecodeID store_and_fwd_flag  PULocationID  \\\n",
       "879093            1.19         1.0                  N           234   \n",
       "1897461           1.90         1.0                  N           264   \n",
       "\n",
       "         DOLocationID  payment_type  fare_amount  \n",
       "879093            170             1         10.7  \n",
       "1897461           137             2         17.0  "
      ]
     },
     "execution_count": 18,
     "metadata": {},
     "output_type": "execute_result"
    }
   ],
   "source": [
    "df2 = df1.drop(columns = ['extra', 'mta_tax', 'tip_amount', 'tolls_amount', 'improvement_surcharge', \n",
    "                           'total_amount', 'congestion_surcharge', 'Airport_fee'])\n",
    "df2.head(2)"
   ]
  },
  {
   "cell_type": "code",
   "execution_count": 19,
   "id": "983a55ee-0537-45de-a93f-7cd23961ef48",
   "metadata": {},
   "outputs": [
    {
     "data": {
      "text/plain": [
       "count    10000.000000\n",
       "mean         3.272825\n",
       "std          4.339110\n",
       "min          0.000000\n",
       "25%          1.000000\n",
       "50%          1.740000\n",
       "75%          3.300000\n",
       "max         74.400000\n",
       "Name: trip_distance, dtype: float64"
      ]
     },
     "execution_count": 19,
     "metadata": {},
     "output_type": "execute_result"
    }
   ],
   "source": [
    "df2['trip_distance'].describe()"
   ]
  },
  {
   "cell_type": "code",
   "execution_count": 20,
   "id": "da5bdabd-4573-4495-9d1c-196bb9c7847e",
   "metadata": {
    "scrolled": true
   },
   "outputs": [
    {
     "ename": "ValueError",
     "evalue": "could not convert string to float: 'N'",
     "output_type": "error",
     "traceback": [
      "\u001b[1;31m---------------------------------------------------------------------------\u001b[0m",
      "\u001b[1;31mValueError\u001b[0m                                Traceback (most recent call last)",
      "Cell \u001b[1;32mIn[20], line 1\u001b[0m\n\u001b[1;32m----> 1\u001b[0m corr \u001b[38;5;241m=\u001b[39m df2\u001b[38;5;241m.\u001b[39mcorr()\n\u001b[0;32m      2\u001b[0m sns\u001b[38;5;241m.\u001b[39mheatmap(corr, annot\u001b[38;5;241m=\u001b[39m\u001b[38;5;28;01mTrue\u001b[39;00m, cmap\u001b[38;5;241m=\u001b[39m\u001b[38;5;124m'\u001b[39m\u001b[38;5;124mcoolwarm\u001b[39m\u001b[38;5;124m'\u001b[39m)\n\u001b[0;32m      3\u001b[0m plt\u001b[38;5;241m.\u001b[39mtitle(\u001b[38;5;124m'\u001b[39m\u001b[38;5;124mCorrelation Heatmap\u001b[39m\u001b[38;5;124m'\u001b[39m)\n",
      "File \u001b[1;32m~\\anaconda3\\Lib\\site-packages\\pandas\\core\\frame.py:10704\u001b[0m, in \u001b[0;36mDataFrame.corr\u001b[1;34m(self, method, min_periods, numeric_only)\u001b[0m\n\u001b[0;32m  10702\u001b[0m cols \u001b[38;5;241m=\u001b[39m data\u001b[38;5;241m.\u001b[39mcolumns\n\u001b[0;32m  10703\u001b[0m idx \u001b[38;5;241m=\u001b[39m cols\u001b[38;5;241m.\u001b[39mcopy()\n\u001b[1;32m> 10704\u001b[0m mat \u001b[38;5;241m=\u001b[39m data\u001b[38;5;241m.\u001b[39mto_numpy(dtype\u001b[38;5;241m=\u001b[39m\u001b[38;5;28mfloat\u001b[39m, na_value\u001b[38;5;241m=\u001b[39mnp\u001b[38;5;241m.\u001b[39mnan, copy\u001b[38;5;241m=\u001b[39m\u001b[38;5;28;01mFalse\u001b[39;00m)\n\u001b[0;32m  10706\u001b[0m \u001b[38;5;28;01mif\u001b[39;00m method \u001b[38;5;241m==\u001b[39m \u001b[38;5;124m\"\u001b[39m\u001b[38;5;124mpearson\u001b[39m\u001b[38;5;124m\"\u001b[39m:\n\u001b[0;32m  10707\u001b[0m     correl \u001b[38;5;241m=\u001b[39m libalgos\u001b[38;5;241m.\u001b[39mnancorr(mat, minp\u001b[38;5;241m=\u001b[39mmin_periods)\n",
      "File \u001b[1;32m~\\anaconda3\\Lib\\site-packages\\pandas\\core\\frame.py:1889\u001b[0m, in \u001b[0;36mDataFrame.to_numpy\u001b[1;34m(self, dtype, copy, na_value)\u001b[0m\n\u001b[0;32m   1887\u001b[0m \u001b[38;5;28;01mif\u001b[39;00m dtype \u001b[38;5;129;01mis\u001b[39;00m \u001b[38;5;129;01mnot\u001b[39;00m \u001b[38;5;28;01mNone\u001b[39;00m:\n\u001b[0;32m   1888\u001b[0m     dtype \u001b[38;5;241m=\u001b[39m np\u001b[38;5;241m.\u001b[39mdtype(dtype)\n\u001b[1;32m-> 1889\u001b[0m result \u001b[38;5;241m=\u001b[39m \u001b[38;5;28mself\u001b[39m\u001b[38;5;241m.\u001b[39m_mgr\u001b[38;5;241m.\u001b[39mas_array(dtype\u001b[38;5;241m=\u001b[39mdtype, copy\u001b[38;5;241m=\u001b[39mcopy, na_value\u001b[38;5;241m=\u001b[39mna_value)\n\u001b[0;32m   1890\u001b[0m \u001b[38;5;28;01mif\u001b[39;00m result\u001b[38;5;241m.\u001b[39mdtype \u001b[38;5;129;01mis\u001b[39;00m \u001b[38;5;129;01mnot\u001b[39;00m dtype:\n\u001b[0;32m   1891\u001b[0m     result \u001b[38;5;241m=\u001b[39m np\u001b[38;5;241m.\u001b[39marray(result, dtype\u001b[38;5;241m=\u001b[39mdtype, copy\u001b[38;5;241m=\u001b[39m\u001b[38;5;28;01mFalse\u001b[39;00m)\n",
      "File \u001b[1;32m~\\anaconda3\\Lib\\site-packages\\pandas\\core\\internals\\managers.py:1656\u001b[0m, in \u001b[0;36mBlockManager.as_array\u001b[1;34m(self, dtype, copy, na_value)\u001b[0m\n\u001b[0;32m   1654\u001b[0m         arr\u001b[38;5;241m.\u001b[39mflags\u001b[38;5;241m.\u001b[39mwriteable \u001b[38;5;241m=\u001b[39m \u001b[38;5;28;01mFalse\u001b[39;00m\n\u001b[0;32m   1655\u001b[0m \u001b[38;5;28;01melse\u001b[39;00m:\n\u001b[1;32m-> 1656\u001b[0m     arr \u001b[38;5;241m=\u001b[39m \u001b[38;5;28mself\u001b[39m\u001b[38;5;241m.\u001b[39m_interleave(dtype\u001b[38;5;241m=\u001b[39mdtype, na_value\u001b[38;5;241m=\u001b[39mna_value)\n\u001b[0;32m   1657\u001b[0m     \u001b[38;5;66;03m# The underlying data was copied within _interleave, so no need\u001b[39;00m\n\u001b[0;32m   1658\u001b[0m     \u001b[38;5;66;03m# to further copy if copy=True or setting na_value\u001b[39;00m\n\u001b[0;32m   1660\u001b[0m \u001b[38;5;28;01mif\u001b[39;00m na_value \u001b[38;5;129;01mis\u001b[39;00m lib\u001b[38;5;241m.\u001b[39mno_default:\n",
      "File \u001b[1;32m~\\anaconda3\\Lib\\site-packages\\pandas\\core\\internals\\managers.py:1715\u001b[0m, in \u001b[0;36mBlockManager._interleave\u001b[1;34m(self, dtype, na_value)\u001b[0m\n\u001b[0;32m   1713\u001b[0m     \u001b[38;5;28;01melse\u001b[39;00m:\n\u001b[0;32m   1714\u001b[0m         arr \u001b[38;5;241m=\u001b[39m blk\u001b[38;5;241m.\u001b[39mget_values(dtype)\n\u001b[1;32m-> 1715\u001b[0m     result[rl\u001b[38;5;241m.\u001b[39mindexer] \u001b[38;5;241m=\u001b[39m arr\n\u001b[0;32m   1716\u001b[0m     itemmask[rl\u001b[38;5;241m.\u001b[39mindexer] \u001b[38;5;241m=\u001b[39m \u001b[38;5;241m1\u001b[39m\n\u001b[0;32m   1718\u001b[0m \u001b[38;5;28;01mif\u001b[39;00m \u001b[38;5;129;01mnot\u001b[39;00m itemmask\u001b[38;5;241m.\u001b[39mall():\n",
      "\u001b[1;31mValueError\u001b[0m: could not convert string to float: 'N'"
     ]
    }
   ],
   "source": [
    "corr = df2.corr()\n",
    "sns.heatmap(corr, annot=True, cmap='coolwarm')\n",
    "plt.title('Correlation Heatmap')\n",
    "plt.show()"
   ]
  },
  {
   "cell_type": "code",
   "execution_count": null,
   "id": "e01bb4bd-3faf-433a-b681-3a26b8f3261e",
   "metadata": {},
   "outputs": [],
   "source": []
  },
  {
   "cell_type": "markdown",
   "id": "f657e2fd-aa97-474b-a612-f1d2a7bc23df",
   "metadata": {},
   "source": [
    "# Missing Values treatment"
   ]
  },
  {
   "cell_type": "code",
   "execution_count": null,
   "id": "6261c1f0-0165-4ade-9687-8ca330709e8e",
   "metadata": {},
   "outputs": [],
   "source": []
  },
  {
   "cell_type": "code",
   "execution_count": 21,
   "id": "665bf3c6-c7cb-41d3-9b3b-da8f0f3caff1",
   "metadata": {},
   "outputs": [
    {
     "data": {
      "text/plain": [
       "VendorID                    0\n",
       "tpep_pickup_datetime        0\n",
       "tpep_dropoff_datetime       0\n",
       "passenger_count          1184\n",
       "trip_distance               0\n",
       "RatecodeID               1184\n",
       "store_and_fwd_flag       1184\n",
       "PULocationID                0\n",
       "DOLocationID                0\n",
       "payment_type                0\n",
       "fare_amount                 0\n",
       "dtype: int64"
      ]
     },
     "execution_count": 21,
     "metadata": {},
     "output_type": "execute_result"
    }
   ],
   "source": [
    "df2.isnull().sum()"
   ]
  },
  {
   "cell_type": "code",
   "execution_count": 22,
   "id": "23b34f24-87fc-4a2e-a825-da4169170040",
   "metadata": {},
   "outputs": [],
   "source": [
    "df2.dropna(inplace = True)"
   ]
  },
  {
   "cell_type": "code",
   "execution_count": 23,
   "id": "a2cc8d29-43fc-4421-9c5a-e97b163e257a",
   "metadata": {},
   "outputs": [
    {
     "data": {
      "text/plain": [
       "(8816, 11)"
      ]
     },
     "execution_count": 23,
     "metadata": {},
     "output_type": "execute_result"
    }
   ],
   "source": [
    "df2.shape"
   ]
  },
  {
   "cell_type": "code",
   "execution_count": 24,
   "id": "6536252c-059d-49f8-b8ba-df81e56b4cdd",
   "metadata": {},
   "outputs": [
    {
     "data": {
      "text/plain": [
       "VendorID                 0\n",
       "tpep_pickup_datetime     0\n",
       "tpep_dropoff_datetime    0\n",
       "passenger_count          0\n",
       "trip_distance            0\n",
       "RatecodeID               0\n",
       "store_and_fwd_flag       0\n",
       "PULocationID             0\n",
       "DOLocationID             0\n",
       "payment_type             0\n",
       "fare_amount              0\n",
       "dtype: int64"
      ]
     },
     "execution_count": 24,
     "metadata": {},
     "output_type": "execute_result"
    }
   ],
   "source": [
    "df2.isnull().sum()"
   ]
  },
  {
   "cell_type": "code",
   "execution_count": 25,
   "id": "7469be32-9246-4087-8c94-42e4c15b54e4",
   "metadata": {},
   "outputs": [
    {
     "name": "stdout",
     "output_type": "stream",
     "text": [
      "<class 'pandas.core.frame.DataFrame'>\n",
      "Index: 8816 entries, 879093 to 2895439\n",
      "Data columns (total 11 columns):\n",
      " #   Column                 Non-Null Count  Dtype         \n",
      "---  ------                 --------------  -----         \n",
      " 0   VendorID               8816 non-null   int32         \n",
      " 1   tpep_pickup_datetime   8816 non-null   datetime64[us]\n",
      " 2   tpep_dropoff_datetime  8816 non-null   datetime64[us]\n",
      " 3   passenger_count        8816 non-null   float64       \n",
      " 4   trip_distance          8816 non-null   float64       \n",
      " 5   RatecodeID             8816 non-null   float64       \n",
      " 6   store_and_fwd_flag     8816 non-null   object        \n",
      " 7   PULocationID           8816 non-null   int32         \n",
      " 8   DOLocationID           8816 non-null   int32         \n",
      " 9   payment_type           8816 non-null   int64         \n",
      " 10  fare_amount            8816 non-null   float64       \n",
      "dtypes: datetime64[us](2), float64(4), int32(3), int64(1), object(1)\n",
      "memory usage: 723.2+ KB\n"
     ]
    }
   ],
   "source": [
    "df2.info()"
   ]
  },
  {
   "cell_type": "code",
   "execution_count": 26,
   "id": "a7e0d69f-5017-4d91-9e51-c625d54cdba3",
   "metadata": {},
   "outputs": [
    {
     "data": {
      "text/plain": [
       "store_and_fwd_flag\n",
       "N    8780\n",
       "Y      36\n",
       "Name: count, dtype: int64"
      ]
     },
     "execution_count": 26,
     "metadata": {},
     "output_type": "execute_result"
    }
   ],
   "source": [
    "df2['store_and_fwd_flag'].value_counts()"
   ]
  },
  {
   "cell_type": "markdown",
   "id": "4a91d65c-fa12-47a9-bf3e-9a9b1db9cfa4",
   "metadata": {},
   "source": [
    "### converting the object datatype to the numeral datatype"
   ]
  },
  {
   "cell_type": "code",
   "execution_count": 27,
   "id": "7c78616a-1694-4c02-849c-17b165f9dafe",
   "metadata": {},
   "outputs": [],
   "source": [
    "df2['store_and_fwd_flag'] = df2['store_and_fwd_flag'].apply(lambda x: 1 if x == 'Y' else 0)"
   ]
  },
  {
   "cell_type": "code",
   "execution_count": 28,
   "id": "cdae841d-e6c1-4ff2-aece-80c05a901068",
   "metadata": {},
   "outputs": [
    {
     "data": {
      "text/plain": [
       "store_and_fwd_flag\n",
       "0    8780\n",
       "1      36\n",
       "Name: count, dtype: int64"
      ]
     },
     "execution_count": 28,
     "metadata": {},
     "output_type": "execute_result"
    }
   ],
   "source": [
    "df2['store_and_fwd_flag'].value_counts()"
   ]
  },
  {
   "cell_type": "code",
   "execution_count": null,
   "id": "549c2575-9adb-4319-b754-8ea1eef226e0",
   "metadata": {},
   "outputs": [],
   "source": []
  },
  {
   "cell_type": "code",
   "execution_count": 29,
   "id": "3af07a3f-6170-4965-9ea8-82e9781e54e8",
   "metadata": {},
   "outputs": [
    {
     "data": {
      "text/plain": [
       "SignificanceResult(statistic=-0.01295343975339541, pvalue=0.22393803675992566)"
      ]
     },
     "execution_count": 29,
     "metadata": {},
     "output_type": "execute_result"
    }
   ],
   "source": [
    "stats.pointbiserialr(df2['store_and_fwd_flag'], df2['fare_amount'])   # there is no relationship between fare_Amount and store_and_fwd_flag\n",
    "# we will be dropping this column "
   ]
  },
  {
   "cell_type": "code",
   "execution_count": 30,
   "id": "dd4f331c-cc09-4883-a72c-cd3745225bb3",
   "metadata": {},
   "outputs": [],
   "source": [
    "df2 = df2.drop(columns = ['store_and_fwd_flag'])"
   ]
  },
  {
   "cell_type": "code",
   "execution_count": 31,
   "id": "d12dcf5c-e964-490e-a15a-fa572c5f655d",
   "metadata": {},
   "outputs": [
    {
     "data": {
      "text/plain": [
       "Index(['VendorID', 'tpep_pickup_datetime', 'tpep_dropoff_datetime',\n",
       "       'passenger_count', 'trip_distance', 'RatecodeID', 'PULocationID',\n",
       "       'DOLocationID', 'payment_type', 'fare_amount'],\n",
       "      dtype='object')"
      ]
     },
     "execution_count": 31,
     "metadata": {},
     "output_type": "execute_result"
    }
   ],
   "source": [
    "df2.columns"
   ]
  },
  {
   "cell_type": "code",
   "execution_count": 32,
   "id": "8056e519-9481-4ffb-bdc2-c14a781a0bd1",
   "metadata": {},
   "outputs": [
    {
     "data": {
      "text/plain": [
       "VendorID\n",
       "2    6690\n",
       "1    2126\n",
       "Name: count, dtype: int64"
      ]
     },
     "execution_count": 32,
     "metadata": {},
     "output_type": "execute_result"
    }
   ],
   "source": [
    "df2['VendorID'].value_counts()"
   ]
  },
  {
   "cell_type": "code",
   "execution_count": null,
   "id": "f0141a11-eb98-44ee-a29d-7a5a66baf4db",
   "metadata": {},
   "outputs": [],
   "source": []
  },
  {
   "cell_type": "code",
   "execution_count": 33,
   "id": "8660d13b-6203-4603-8609-fafff70a82fa",
   "metadata": {},
   "outputs": [],
   "source": [
    "df2['pickup_hour'] = df2['tpep_pickup_datetime'].dt.hour\n",
    "df2['pickup_minute'] = df2['tpep_pickup_datetime'].dt.minute\n",
    "df2['pickup_day'] = df2['tpep_pickup_datetime'].dt.day\n",
    "df2['pickup_month'] = df2['tpep_pickup_datetime'].dt.month\n",
    "df2['trip_duration'] = (df2['tpep_dropoff_datetime'] - df2['tpep_pickup_datetime']).dt.total_seconds() / 60"
   ]
  },
  {
   "cell_type": "code",
   "execution_count": 34,
   "id": "f8c06ae6-cc94-4b9d-90eb-9e6ce0bbeda3",
   "metadata": {},
   "outputs": [],
   "source": [
    "df2.drop(columns = ['tpep_pickup_datetime', 'tpep_dropoff_datetime'], inplace = True)"
   ]
  },
  {
   "cell_type": "code",
   "execution_count": 35,
   "id": "b55a68c2-9ff6-4f16-82df-dfc972f134f1",
   "metadata": {},
   "outputs": [
    {
     "data": {
      "text/plain": [
       "Index(['VendorID', 'passenger_count', 'trip_distance', 'RatecodeID',\n",
       "       'PULocationID', 'DOLocationID', 'payment_type', 'fare_amount',\n",
       "       'pickup_hour', 'pickup_minute', 'pickup_day', 'pickup_month',\n",
       "       'trip_duration'],\n",
       "      dtype='object')"
      ]
     },
     "execution_count": 35,
     "metadata": {},
     "output_type": "execute_result"
    }
   ],
   "source": [
    "df2.columns"
   ]
  },
  {
   "cell_type": "code",
   "execution_count": 36,
   "id": "efa2eab2-924c-41eb-bc71-cae911829cdf",
   "metadata": {},
   "outputs": [
    {
     "name": "stdout",
     "output_type": "stream",
     "text": [
      "<class 'pandas.core.frame.DataFrame'>\n",
      "Index: 8816 entries, 879093 to 2895439\n",
      "Data columns (total 13 columns):\n",
      " #   Column           Non-Null Count  Dtype  \n",
      "---  ------           --------------  -----  \n",
      " 0   VendorID         8816 non-null   int32  \n",
      " 1   passenger_count  8816 non-null   float64\n",
      " 2   trip_distance    8816 non-null   float64\n",
      " 3   RatecodeID       8816 non-null   float64\n",
      " 4   PULocationID     8816 non-null   int32  \n",
      " 5   DOLocationID     8816 non-null   int32  \n",
      " 6   payment_type     8816 non-null   int64  \n",
      " 7   fare_amount      8816 non-null   float64\n",
      " 8   pickup_hour      8816 non-null   int32  \n",
      " 9   pickup_minute    8816 non-null   int32  \n",
      " 10  pickup_day       8816 non-null   int32  \n",
      " 11  pickup_month     8816 non-null   int32  \n",
      " 12  trip_duration    8816 non-null   float64\n",
      "dtypes: float64(5), int32(7), int64(1)\n",
      "memory usage: 723.2 KB\n"
     ]
    }
   ],
   "source": [
    "df2.info()"
   ]
  },
  {
   "cell_type": "code",
   "execution_count": 37,
   "id": "496c7243-7d94-4520-81b7-e2213ec6f6d1",
   "metadata": {},
   "outputs": [
    {
     "data": {
      "text/html": [
       "<div>\n",
       "<style scoped>\n",
       "    .dataframe tbody tr th:only-of-type {\n",
       "        vertical-align: middle;\n",
       "    }\n",
       "\n",
       "    .dataframe tbody tr th {\n",
       "        vertical-align: top;\n",
       "    }\n",
       "\n",
       "    .dataframe thead th {\n",
       "        text-align: right;\n",
       "    }\n",
       "</style>\n",
       "<table border=\"1\" class=\"dataframe\">\n",
       "  <thead>\n",
       "    <tr style=\"text-align: right;\">\n",
       "      <th></th>\n",
       "      <th>VendorID</th>\n",
       "      <th>passenger_count</th>\n",
       "      <th>trip_distance</th>\n",
       "      <th>RatecodeID</th>\n",
       "      <th>PULocationID</th>\n",
       "      <th>DOLocationID</th>\n",
       "      <th>payment_type</th>\n",
       "      <th>fare_amount</th>\n",
       "      <th>pickup_hour</th>\n",
       "      <th>pickup_minute</th>\n",
       "      <th>pickup_day</th>\n",
       "      <th>pickup_month</th>\n",
       "      <th>trip_duration</th>\n",
       "    </tr>\n",
       "  </thead>\n",
       "  <tbody>\n",
       "    <tr>\n",
       "      <th>879093</th>\n",
       "      <td>2</td>\n",
       "      <td>5.0</td>\n",
       "      <td>1.19</td>\n",
       "      <td>1.0</td>\n",
       "      <td>234</td>\n",
       "      <td>170</td>\n",
       "      <td>1</td>\n",
       "      <td>10.7</td>\n",
       "      <td>14</td>\n",
       "      <td>41</td>\n",
       "      <td>9</td>\n",
       "      <td>3</td>\n",
       "      <td>9.883333</td>\n",
       "    </tr>\n",
       "    <tr>\n",
       "      <th>1897461</th>\n",
       "      <td>1</td>\n",
       "      <td>0.0</td>\n",
       "      <td>1.90</td>\n",
       "      <td>1.0</td>\n",
       "      <td>264</td>\n",
       "      <td>137</td>\n",
       "      <td>2</td>\n",
       "      <td>17.0</td>\n",
       "      <td>13</td>\n",
       "      <td>26</td>\n",
       "      <td>19</td>\n",
       "      <td>3</td>\n",
       "      <td>19.400000</td>\n",
       "    </tr>\n",
       "  </tbody>\n",
       "</table>\n",
       "</div>"
      ],
      "text/plain": [
       "         VendorID  passenger_count  trip_distance  RatecodeID  PULocationID  \\\n",
       "879093          2              5.0           1.19         1.0           234   \n",
       "1897461         1              0.0           1.90         1.0           264   \n",
       "\n",
       "         DOLocationID  payment_type  fare_amount  pickup_hour  pickup_minute  \\\n",
       "879093            170             1         10.7           14             41   \n",
       "1897461           137             2         17.0           13             26   \n",
       "\n",
       "         pickup_day  pickup_month  trip_duration  \n",
       "879093            9             3       9.883333  \n",
       "1897461          19             3      19.400000  "
      ]
     },
     "execution_count": 37,
     "metadata": {},
     "output_type": "execute_result"
    }
   ],
   "source": [
    "df2.head(2)"
   ]
  },
  {
   "cell_type": "code",
   "execution_count": 38,
   "id": "10349b8a-e4b5-4fec-95b8-9e0b15115d9d",
   "metadata": {},
   "outputs": [
    {
     "data": {
      "image/png": "[encoded data removed]",
      "text/plain": [
       "<Figure size 640x480 with 1 Axes>"
      ]
     },
     "metadata": {},
     "output_type": "display_data"
    }
   ],
   "source": [
    "df2['pickup_hour'].value_counts().sort_index().plot(kind = 'bar')\n",
    "plt.show()"
   ]
  },
  {
   "cell_type": "markdown",
   "id": "3eceaab4-c600-4de7-af20-87b3ede553bc",
   "metadata": {},
   "source": [
    "# Outlier treatment"
   ]
  },
  {
   "cell_type": "code",
   "execution_count": 39,
   "id": "7e0aaa91-91e9-4c93-8ede-f293171aa633",
   "metadata": {},
   "outputs": [
    {
     "data": {
      "text/html": [
       "<div>\n",
       "<style scoped>\n",
       "    .dataframe tbody tr th:only-of-type {\n",
       "        vertical-align: middle;\n",
       "    }\n",
       "\n",
       "    .dataframe tbody tr th {\n",
       "        vertical-align: top;\n",
       "    }\n",
       "\n",
       "    .dataframe thead th {\n",
       "        text-align: right;\n",
       "    }\n",
       "</style>\n",
       "<table border=\"1\" class=\"dataframe\">\n",
       "  <thead>\n",
       "    <tr style=\"text-align: right;\">\n",
       "      <th></th>\n",
       "      <th>count</th>\n",
       "      <th>mean</th>\n",
       "      <th>std</th>\n",
       "      <th>min</th>\n",
       "      <th>1%</th>\n",
       "      <th>2%</th>\n",
       "      <th>3%</th>\n",
       "      <th>50%</th>\n",
       "      <th>97%</th>\n",
       "      <th>98%</th>\n",
       "      <th>99%</th>\n",
       "      <th>max</th>\n",
       "    </tr>\n",
       "  </thead>\n",
       "  <tbody>\n",
       "    <tr>\n",
       "      <th>VendorID</th>\n",
       "      <td>8816.0</td>\n",
       "      <td>1.758848</td>\n",
       "      <td>0.427807</td>\n",
       "      <td>1.0</td>\n",
       "      <td>1.000000</td>\n",
       "      <td>1.000000</td>\n",
       "      <td>1.00</td>\n",
       "      <td>2.000000</td>\n",
       "      <td>2.000000</td>\n",
       "      <td>2.000000</td>\n",
       "      <td>2.000000</td>\n",
       "      <td>2.000000</td>\n",
       "    </tr>\n",
       "    <tr>\n",
       "      <th>passenger_count</th>\n",
       "      <td>8816.0</td>\n",
       "      <td>1.349478</td>\n",
       "      <td>0.865960</td>\n",
       "      <td>0.0</td>\n",
       "      <td>0.000000</td>\n",
       "      <td>1.000000</td>\n",
       "      <td>1.00</td>\n",
       "      <td>1.000000</td>\n",
       "      <td>4.000000</td>\n",
       "      <td>4.000000</td>\n",
       "      <td>5.000000</td>\n",
       "      <td>6.000000</td>\n",
       "    </tr>\n",
       "    <tr>\n",
       "      <th>trip_distance</th>\n",
       "      <td>8816.0</td>\n",
       "      <td>3.338657</td>\n",
       "      <td>4.511224</td>\n",
       "      <td>0.0</td>\n",
       "      <td>0.000000</td>\n",
       "      <td>0.250000</td>\n",
       "      <td>0.34</td>\n",
       "      <td>1.700000</td>\n",
       "      <td>17.515500</td>\n",
       "      <td>18.340000</td>\n",
       "      <td>19.993500</td>\n",
       "      <td>74.400000</td>\n",
       "    </tr>\n",
       "    <tr>\n",
       "      <th>RatecodeID</th>\n",
       "      <td>8816.0</td>\n",
       "      <td>2.155172</td>\n",
       "      <td>10.223546</td>\n",
       "      <td>1.0</td>\n",
       "      <td>1.000000</td>\n",
       "      <td>1.000000</td>\n",
       "      <td>1.00</td>\n",
       "      <td>1.000000</td>\n",
       "      <td>2.000000</td>\n",
       "      <td>3.000000</td>\n",
       "      <td>99.000000</td>\n",
       "      <td>99.000000</td>\n",
       "    </tr>\n",
       "    <tr>\n",
       "      <th>PULocationID</th>\n",
       "      <td>8816.0</td>\n",
       "      <td>165.614678</td>\n",
       "      <td>62.767988</td>\n",
       "      <td>1.0</td>\n",
       "      <td>24.000000</td>\n",
       "      <td>43.000000</td>\n",
       "      <td>43.00</td>\n",
       "      <td>161.000000</td>\n",
       "      <td>262.000000</td>\n",
       "      <td>263.000000</td>\n",
       "      <td>263.000000</td>\n",
       "      <td>265.000000</td>\n",
       "    </tr>\n",
       "    <tr>\n",
       "      <th>DOLocationID</th>\n",
       "      <td>8816.0</td>\n",
       "      <td>165.549796</td>\n",
       "      <td>68.763575</td>\n",
       "      <td>1.0</td>\n",
       "      <td>10.000000</td>\n",
       "      <td>21.300000</td>\n",
       "      <td>40.00</td>\n",
       "      <td>163.000000</td>\n",
       "      <td>263.000000</td>\n",
       "      <td>263.000000</td>\n",
       "      <td>264.000000</td>\n",
       "      <td>265.000000</td>\n",
       "    </tr>\n",
       "    <tr>\n",
       "      <th>payment_type</th>\n",
       "      <td>8816.0</td>\n",
       "      <td>1.220054</td>\n",
       "      <td>0.551705</td>\n",
       "      <td>1.0</td>\n",
       "      <td>1.000000</td>\n",
       "      <td>1.000000</td>\n",
       "      <td>1.00</td>\n",
       "      <td>1.000000</td>\n",
       "      <td>2.000000</td>\n",
       "      <td>3.000000</td>\n",
       "      <td>4.000000</td>\n",
       "      <td>4.000000</td>\n",
       "    </tr>\n",
       "    <tr>\n",
       "      <th>fare_amount</th>\n",
       "      <td>8816.0</td>\n",
       "      <td>18.759676</td>\n",
       "      <td>18.626164</td>\n",
       "      <td>-95.4</td>\n",
       "      <td>-4.995000</td>\n",
       "      <td>3.700000</td>\n",
       "      <td>4.40</td>\n",
       "      <td>12.800000</td>\n",
       "      <td>70.000000</td>\n",
       "      <td>70.000000</td>\n",
       "      <td>75.695000</td>\n",
       "      <td>388.000000</td>\n",
       "    </tr>\n",
       "    <tr>\n",
       "      <th>pickup_hour</th>\n",
       "      <td>8816.0</td>\n",
       "      <td>14.306488</td>\n",
       "      <td>5.676352</td>\n",
       "      <td>0.0</td>\n",
       "      <td>0.000000</td>\n",
       "      <td>0.000000</td>\n",
       "      <td>1.00</td>\n",
       "      <td>15.000000</td>\n",
       "      <td>23.000000</td>\n",
       "      <td>23.000000</td>\n",
       "      <td>23.000000</td>\n",
       "      <td>23.000000</td>\n",
       "    </tr>\n",
       "    <tr>\n",
       "      <th>pickup_minute</th>\n",
       "      <td>8816.0</td>\n",
       "      <td>29.853108</td>\n",
       "      <td>17.345780</td>\n",
       "      <td>0.0</td>\n",
       "      <td>0.000000</td>\n",
       "      <td>1.000000</td>\n",
       "      <td>1.00</td>\n",
       "      <td>30.000000</td>\n",
       "      <td>57.000000</td>\n",
       "      <td>58.000000</td>\n",
       "      <td>59.000000</td>\n",
       "      <td>59.000000</td>\n",
       "    </tr>\n",
       "    <tr>\n",
       "      <th>pickup_day</th>\n",
       "      <td>8816.0</td>\n",
       "      <td>15.952246</td>\n",
       "      <td>8.838957</td>\n",
       "      <td>1.0</td>\n",
       "      <td>1.000000</td>\n",
       "      <td>1.000000</td>\n",
       "      <td>1.00</td>\n",
       "      <td>16.000000</td>\n",
       "      <td>30.000000</td>\n",
       "      <td>31.000000</td>\n",
       "      <td>31.000000</td>\n",
       "      <td>31.000000</td>\n",
       "    </tr>\n",
       "    <tr>\n",
       "      <th>pickup_month</th>\n",
       "      <td>8816.0</td>\n",
       "      <td>3.000000</td>\n",
       "      <td>0.000000</td>\n",
       "      <td>3.0</td>\n",
       "      <td>3.000000</td>\n",
       "      <td>3.000000</td>\n",
       "      <td>3.00</td>\n",
       "      <td>3.000000</td>\n",
       "      <td>3.000000</td>\n",
       "      <td>3.000000</td>\n",
       "      <td>3.000000</td>\n",
       "      <td>3.000000</td>\n",
       "    </tr>\n",
       "    <tr>\n",
       "      <th>trip_duration</th>\n",
       "      <td>8816.0</td>\n",
       "      <td>16.544179</td>\n",
       "      <td>32.968374</td>\n",
       "      <td>0.0</td>\n",
       "      <td>0.838333</td>\n",
       "      <td>1.983333</td>\n",
       "      <td>2.55</td>\n",
       "      <td>12.166667</td>\n",
       "      <td>50.516667</td>\n",
       "      <td>56.528333</td>\n",
       "      <td>65.765833</td>\n",
       "      <td>1437.166667</td>\n",
       "    </tr>\n",
       "  </tbody>\n",
       "</table>\n",
       "</div>"
      ],
      "text/plain": [
       "                  count        mean        std   min         1%         2%  \\\n",
       "VendorID         8816.0    1.758848   0.427807   1.0   1.000000   1.000000   \n",
       "passenger_count  8816.0    1.349478   0.865960   0.0   0.000000   1.000000   \n",
       "trip_distance    8816.0    3.338657   4.511224   0.0   0.000000   0.250000   \n",
       "RatecodeID       8816.0    2.155172  10.223546   1.0   1.000000   1.000000   \n",
       "PULocationID     8816.0  165.614678  62.767988   1.0  24.000000  43.000000   \n",
       "DOLocationID     8816.0  165.549796  68.763575   1.0  10.000000  21.300000   \n",
       "payment_type     8816.0    1.220054   0.551705   1.0   1.000000   1.000000   \n",
       "fare_amount      8816.0   18.759676  18.626164 -95.4  -4.995000   3.700000   \n",
       "pickup_hour      8816.0   14.306488   5.676352   0.0   0.000000   0.000000   \n",
       "pickup_minute    8816.0   29.853108  17.345780   0.0   0.000000   1.000000   \n",
       "pickup_day       8816.0   15.952246   8.838957   1.0   1.000000   1.000000   \n",
       "pickup_month     8816.0    3.000000   0.000000   3.0   3.000000   3.000000   \n",
       "trip_duration    8816.0   16.544179  32.968374   0.0   0.838333   1.983333   \n",
       "\n",
       "                    3%         50%         97%         98%         99%  \\\n",
       "VendorID          1.00    2.000000    2.000000    2.000000    2.000000   \n",
       "passenger_count   1.00    1.000000    4.000000    4.000000    5.000000   \n",
       "trip_distance     0.34    1.700000   17.515500   18.340000   19.993500   \n",
       "RatecodeID        1.00    1.000000    2.000000    3.000000   99.000000   \n",
       "PULocationID     43.00  161.000000  262.000000  263.000000  263.000000   \n",
       "DOLocationID     40.00  163.000000  263.000000  263.000000  264.000000   \n",
       "payment_type      1.00    1.000000    2.000000    3.000000    4.000000   \n",
       "fare_amount       4.40   12.800000   70.000000   70.000000   75.695000   \n",
       "pickup_hour       1.00   15.000000   23.000000   23.000000   23.000000   \n",
       "pickup_minute     1.00   30.000000   57.000000   58.000000   59.000000   \n",
       "pickup_day        1.00   16.000000   30.000000   31.000000   31.000000   \n",
       "pickup_month      3.00    3.000000    3.000000    3.000000    3.000000   \n",
       "trip_duration     2.55   12.166667   50.516667   56.528333   65.765833   \n",
       "\n",
       "                         max  \n",
       "VendorID            2.000000  \n",
       "passenger_count     6.000000  \n",
       "trip_distance      74.400000  \n",
       "RatecodeID         99.000000  \n",
       "PULocationID      265.000000  \n",
       "DOLocationID      265.000000  \n",
       "payment_type        4.000000  \n",
       "fare_amount       388.000000  \n",
       "pickup_hour        23.000000  \n",
       "pickup_minute      59.000000  \n",
       "pickup_day         31.000000  \n",
       "pickup_month        3.000000  \n",
       "trip_duration    1437.166667  "
      ]
     },
     "execution_count": 39,
     "metadata": {},
     "output_type": "execute_result"
    }
   ],
   "source": [
    "df2.describe(percentiles = [0.01, 0.02, 0.03, 0.97, 0.98, 0.99]).T"
   ]
  },
  {
   "cell_type": "code",
   "execution_count": 40,
   "id": "6cafd58c-0839-4164-b37a-492700090b04",
   "metadata": {},
   "outputs": [
    {
     "data": {
      "text/plain": [
       "RatecodeID\n",
       "1.0     8278\n",
       "2.0      335\n",
       "99.0      97\n",
       "5.0       57\n",
       "3.0       32\n",
       "4.0       17\n",
       "Name: count, dtype: int64"
      ]
     },
     "execution_count": 40,
     "metadata": {},
     "output_type": "execute_result"
    }
   ],
   "source": [
    "df2['RatecodeID'].value_counts()"
   ]
  },
  {
   "cell_type": "code",
   "execution_count": 41,
   "id": "db484f7a-f698-47f6-9b7a-1a719d767e5e",
   "metadata": {},
   "outputs": [],
   "source": [
    "def outlier_method1(x):\n",
    "    x = x.clip(upper = x.quantile(0.99))     # this calculate the 99 percentile and replace it \n",
    "    x = x.clip(lower = x.quantile(0.01))\n",
    "    return x"
   ]
  },
  {
   "cell_type": "code",
   "execution_count": 42,
   "id": "dc2c4ef7-e12e-4866-b445-a6dd1f3f8f86",
   "metadata": {},
   "outputs": [
    {
     "data": {
      "text/html": [
       "<div>\n",
       "<style scoped>\n",
       "    .dataframe tbody tr th:only-of-type {\n",
       "        vertical-align: middle;\n",
       "    }\n",
       "\n",
       "    .dataframe tbody tr th {\n",
       "        vertical-align: top;\n",
       "    }\n",
       "\n",
       "    .dataframe thead th {\n",
       "        text-align: right;\n",
       "    }\n",
       "</style>\n",
       "<table border=\"1\" class=\"dataframe\">\n",
       "  <thead>\n",
       "    <tr style=\"text-align: right;\">\n",
       "      <th></th>\n",
       "      <th>count</th>\n",
       "      <th>mean</th>\n",
       "      <th>std</th>\n",
       "      <th>min</th>\n",
       "      <th>1%</th>\n",
       "      <th>2%</th>\n",
       "      <th>3%</th>\n",
       "      <th>50%</th>\n",
       "      <th>97%</th>\n",
       "      <th>98%</th>\n",
       "      <th>99%</th>\n",
       "      <th>max</th>\n",
       "    </tr>\n",
       "  </thead>\n",
       "  <tbody>\n",
       "    <tr>\n",
       "      <th>VendorID</th>\n",
       "      <td>8816.0</td>\n",
       "      <td>1.758848</td>\n",
       "      <td>0.427807</td>\n",
       "      <td>1.000000</td>\n",
       "      <td>1.000000</td>\n",
       "      <td>1.000000</td>\n",
       "      <td>1.00</td>\n",
       "      <td>2.000000</td>\n",
       "      <td>2.000000</td>\n",
       "      <td>2.000000</td>\n",
       "      <td>2.000000</td>\n",
       "      <td>2.000000</td>\n",
       "    </tr>\n",
       "    <tr>\n",
       "      <th>passenger_count</th>\n",
       "      <td>8816.0</td>\n",
       "      <td>1.341311</td>\n",
       "      <td>0.825844</td>\n",
       "      <td>0.000000</td>\n",
       "      <td>0.000000</td>\n",
       "      <td>1.000000</td>\n",
       "      <td>1.00</td>\n",
       "      <td>1.000000</td>\n",
       "      <td>4.000000</td>\n",
       "      <td>4.000000</td>\n",
       "      <td>5.000000</td>\n",
       "      <td>5.000000</td>\n",
       "    </tr>\n",
       "    <tr>\n",
       "      <th>trip_distance</th>\n",
       "      <td>8816.0</td>\n",
       "      <td>3.295156</td>\n",
       "      <td>4.251564</td>\n",
       "      <td>0.000000</td>\n",
       "      <td>0.000000</td>\n",
       "      <td>0.250000</td>\n",
       "      <td>0.34</td>\n",
       "      <td>1.700000</td>\n",
       "      <td>17.515500</td>\n",
       "      <td>18.340000</td>\n",
       "      <td>19.979475</td>\n",
       "      <td>19.993500</td>\n",
       "    </tr>\n",
       "    <tr>\n",
       "      <th>RatecodeID</th>\n",
       "      <td>8816.0</td>\n",
       "      <td>2.155172</td>\n",
       "      <td>10.223546</td>\n",
       "      <td>1.000000</td>\n",
       "      <td>1.000000</td>\n",
       "      <td>1.000000</td>\n",
       "      <td>1.00</td>\n",
       "      <td>1.000000</td>\n",
       "      <td>2.000000</td>\n",
       "      <td>3.000000</td>\n",
       "      <td>99.000000</td>\n",
       "      <td>99.000000</td>\n",
       "    </tr>\n",
       "    <tr>\n",
       "      <th>PULocationID</th>\n",
       "      <td>8816.0</td>\n",
       "      <td>165.718920</td>\n",
       "      <td>62.501722</td>\n",
       "      <td>24.000000</td>\n",
       "      <td>24.000000</td>\n",
       "      <td>43.000000</td>\n",
       "      <td>43.00</td>\n",
       "      <td>161.000000</td>\n",
       "      <td>262.000000</td>\n",
       "      <td>263.000000</td>\n",
       "      <td>263.000000</td>\n",
       "      <td>263.000000</td>\n",
       "    </tr>\n",
       "    <tr>\n",
       "      <th>DOLocationID</th>\n",
       "      <td>8816.0</td>\n",
       "      <td>165.602201</td>\n",
       "      <td>68.627654</td>\n",
       "      <td>10.000000</td>\n",
       "      <td>10.000000</td>\n",
       "      <td>21.300000</td>\n",
       "      <td>40.00</td>\n",
       "      <td>163.000000</td>\n",
       "      <td>263.000000</td>\n",
       "      <td>263.000000</td>\n",
       "      <td>264.000000</td>\n",
       "      <td>264.000000</td>\n",
       "    </tr>\n",
       "    <tr>\n",
       "      <th>payment_type</th>\n",
       "      <td>8816.0</td>\n",
       "      <td>1.220054</td>\n",
       "      <td>0.551705</td>\n",
       "      <td>1.000000</td>\n",
       "      <td>1.000000</td>\n",
       "      <td>1.000000</td>\n",
       "      <td>1.00</td>\n",
       "      <td>1.000000</td>\n",
       "      <td>2.000000</td>\n",
       "      <td>3.000000</td>\n",
       "      <td>4.000000</td>\n",
       "      <td>4.000000</td>\n",
       "    </tr>\n",
       "    <tr>\n",
       "      <th>fare_amount</th>\n",
       "      <td>8816.0</td>\n",
       "      <td>18.624865</td>\n",
       "      <td>16.327971</td>\n",
       "      <td>-4.995000</td>\n",
       "      <td>-4.905750</td>\n",
       "      <td>3.700000</td>\n",
       "      <td>4.40</td>\n",
       "      <td>12.800000</td>\n",
       "      <td>70.000000</td>\n",
       "      <td>70.000000</td>\n",
       "      <td>75.605750</td>\n",
       "      <td>75.695000</td>\n",
       "    </tr>\n",
       "    <tr>\n",
       "      <th>pickup_hour</th>\n",
       "      <td>8816.0</td>\n",
       "      <td>14.306488</td>\n",
       "      <td>5.676352</td>\n",
       "      <td>0.000000</td>\n",
       "      <td>0.000000</td>\n",
       "      <td>0.000000</td>\n",
       "      <td>1.00</td>\n",
       "      <td>15.000000</td>\n",
       "      <td>23.000000</td>\n",
       "      <td>23.000000</td>\n",
       "      <td>23.000000</td>\n",
       "      <td>23.000000</td>\n",
       "    </tr>\n",
       "    <tr>\n",
       "      <th>pickup_minute</th>\n",
       "      <td>8816.0</td>\n",
       "      <td>29.853108</td>\n",
       "      <td>17.345780</td>\n",
       "      <td>0.000000</td>\n",
       "      <td>0.000000</td>\n",
       "      <td>1.000000</td>\n",
       "      <td>1.00</td>\n",
       "      <td>30.000000</td>\n",
       "      <td>57.000000</td>\n",
       "      <td>58.000000</td>\n",
       "      <td>59.000000</td>\n",
       "      <td>59.000000</td>\n",
       "    </tr>\n",
       "    <tr>\n",
       "      <th>pickup_day</th>\n",
       "      <td>8816.0</td>\n",
       "      <td>15.952246</td>\n",
       "      <td>8.838957</td>\n",
       "      <td>1.000000</td>\n",
       "      <td>1.000000</td>\n",
       "      <td>1.000000</td>\n",
       "      <td>1.00</td>\n",
       "      <td>16.000000</td>\n",
       "      <td>30.000000</td>\n",
       "      <td>31.000000</td>\n",
       "      <td>31.000000</td>\n",
       "      <td>31.000000</td>\n",
       "    </tr>\n",
       "    <tr>\n",
       "      <th>pickup_month</th>\n",
       "      <td>8816.0</td>\n",
       "      <td>3.000000</td>\n",
       "      <td>0.000000</td>\n",
       "      <td>3.000000</td>\n",
       "      <td>3.000000</td>\n",
       "      <td>3.000000</td>\n",
       "      <td>3.00</td>\n",
       "      <td>3.000000</td>\n",
       "      <td>3.000000</td>\n",
       "      <td>3.000000</td>\n",
       "      <td>3.000000</td>\n",
       "      <td>3.000000</td>\n",
       "    </tr>\n",
       "    <tr>\n",
       "      <th>trip_duration</th>\n",
       "      <td>8816.0</td>\n",
       "      <td>15.772348</td>\n",
       "      <td>12.513348</td>\n",
       "      <td>0.838333</td>\n",
       "      <td>0.842583</td>\n",
       "      <td>1.983333</td>\n",
       "      <td>2.55</td>\n",
       "      <td>12.166667</td>\n",
       "      <td>50.516667</td>\n",
       "      <td>56.528333</td>\n",
       "      <td>65.750958</td>\n",
       "      <td>65.765833</td>\n",
       "    </tr>\n",
       "  </tbody>\n",
       "</table>\n",
       "</div>"
      ],
      "text/plain": [
       "                  count        mean        std        min         1%  \\\n",
       "VendorID         8816.0    1.758848   0.427807   1.000000   1.000000   \n",
       "passenger_count  8816.0    1.341311   0.825844   0.000000   0.000000   \n",
       "trip_distance    8816.0    3.295156   4.251564   0.000000   0.000000   \n",
       "RatecodeID       8816.0    2.155172  10.223546   1.000000   1.000000   \n",
       "PULocationID     8816.0  165.718920  62.501722  24.000000  24.000000   \n",
       "DOLocationID     8816.0  165.602201  68.627654  10.000000  10.000000   \n",
       "payment_type     8816.0    1.220054   0.551705   1.000000   1.000000   \n",
       "fare_amount      8816.0   18.624865  16.327971  -4.995000  -4.905750   \n",
       "pickup_hour      8816.0   14.306488   5.676352   0.000000   0.000000   \n",
       "pickup_minute    8816.0   29.853108  17.345780   0.000000   0.000000   \n",
       "pickup_day       8816.0   15.952246   8.838957   1.000000   1.000000   \n",
       "pickup_month     8816.0    3.000000   0.000000   3.000000   3.000000   \n",
       "trip_duration    8816.0   15.772348  12.513348   0.838333   0.842583   \n",
       "\n",
       "                        2%     3%         50%         97%         98%  \\\n",
       "VendorID          1.000000   1.00    2.000000    2.000000    2.000000   \n",
       "passenger_count   1.000000   1.00    1.000000    4.000000    4.000000   \n",
       "trip_distance     0.250000   0.34    1.700000   17.515500   18.340000   \n",
       "RatecodeID        1.000000   1.00    1.000000    2.000000    3.000000   \n",
       "PULocationID     43.000000  43.00  161.000000  262.000000  263.000000   \n",
       "DOLocationID     21.300000  40.00  163.000000  263.000000  263.000000   \n",
       "payment_type      1.000000   1.00    1.000000    2.000000    3.000000   \n",
       "fare_amount       3.700000   4.40   12.800000   70.000000   70.000000   \n",
       "pickup_hour       0.000000   1.00   15.000000   23.000000   23.000000   \n",
       "pickup_minute     1.000000   1.00   30.000000   57.000000   58.000000   \n",
       "pickup_day        1.000000   1.00   16.000000   30.000000   31.000000   \n",
       "pickup_month      3.000000   3.00    3.000000    3.000000    3.000000   \n",
       "trip_duration     1.983333   2.55   12.166667   50.516667   56.528333   \n",
       "\n",
       "                        99%         max  \n",
       "VendorID           2.000000    2.000000  \n",
       "passenger_count    5.000000    5.000000  \n",
       "trip_distance     19.979475   19.993500  \n",
       "RatecodeID        99.000000   99.000000  \n",
       "PULocationID     263.000000  263.000000  \n",
       "DOLocationID     264.000000  264.000000  \n",
       "payment_type       4.000000    4.000000  \n",
       "fare_amount       75.605750   75.695000  \n",
       "pickup_hour       23.000000   23.000000  \n",
       "pickup_minute     59.000000   59.000000  \n",
       "pickup_day        31.000000   31.000000  \n",
       "pickup_month       3.000000    3.000000  \n",
       "trip_duration     65.750958   65.765833  "
      ]
     },
     "execution_count": 42,
     "metadata": {},
     "output_type": "execute_result"
    }
   ],
   "source": [
    "df2 = df2.apply(outlier_method1)\n",
    "df2.describe(percentiles = [0.01, 0.02, 0.03, 0.97, 0.98, 0.99]).T"
   ]
  },
  {
   "cell_type": "code",
   "execution_count": null,
   "id": "08962135-2c1e-4ecf-a5ae-e4781c5dea55",
   "metadata": {},
   "outputs": [],
   "source": []
  },
  {
   "cell_type": "code",
   "execution_count": 43,
   "id": "9749b320-b844-4d5a-9f85-2ae52f3b9e6b",
   "metadata": {},
   "outputs": [
    {
     "data": {
      "text/plain": [
       "Index(['VendorID', 'passenger_count', 'trip_distance', 'RatecodeID',\n",
       "       'PULocationID', 'DOLocationID', 'payment_type', 'fare_amount',\n",
       "       'pickup_hour', 'pickup_minute', 'pickup_day', 'trip_duration'],\n",
       "      dtype='object')"
      ]
     },
     "execution_count": 43,
     "metadata": {},
     "output_type": "execute_result"
    }
   ],
   "source": [
    "df2.drop(columns = ['pickup_month'], inplace = True)\n",
    "df2.columns"
   ]
  },
  {
   "cell_type": "code",
   "execution_count": 44,
   "id": "7e5fe236-3867-4978-b7d0-74c096b57f91",
   "metadata": {},
   "outputs": [
    {
     "data": {
      "text/plain": [
       "130"
      ]
     },
     "execution_count": 44,
     "metadata": {},
     "output_type": "execute_result"
    }
   ],
   "source": [
    "df2['PULocationID'].nunique()"
   ]
  },
  {
   "cell_type": "code",
   "execution_count": 45,
   "id": "332baf5c-5e45-475b-a50b-ff6ae480a334",
   "metadata": {},
   "outputs": [
    {
     "data": {
      "text/plain": [
       "202"
      ]
     },
     "execution_count": 45,
     "metadata": {},
     "output_type": "execute_result"
    }
   ],
   "source": [
    "df2['DOLocationID'].nunique()"
   ]
  },
  {
   "cell_type": "code",
   "execution_count": 46,
   "id": "98eea697-18f5-41cc-897b-03a06d9e65c8",
   "metadata": {},
   "outputs": [
    {
     "name": "stderr",
     "output_type": "stream",
     "text": [
      "C:\\Users\\manis\\anaconda3\\Lib\\site-packages\\seaborn\\matrix.py:260: FutureWarning: Format strings passed to MaskedConstant are ignored, but in future may error or produce different behavior\n",
      "  annotation = (\"{:\" + self.fmt + \"}\").format(val)\n"
     ]
    },
    {
     "data": {
      "image/png": "[encoded data removed]",
      "text/plain": [
       "<Figure size 640x480 with 2 Axes>"
      ]
     },
     "metadata": {},
     "output_type": "display_data"
    }
   ],
   "source": [
    "corr = df2.corr()\n",
    "corr = corr[abs(corr)> 0.7]\n",
    "sns.heatmap(corr, annot=True, cmap='coolwarm')\n",
    "plt.title('Correlation Heatmap')\n",
    "plt.show()"
   ]
  },
  {
   "cell_type": "code",
   "execution_count": 47,
   "id": "538a765b-76d7-49e7-93e1-dbc6c531cf56",
   "metadata": {},
   "outputs": [
    {
     "name": "stderr",
     "output_type": "stream",
     "text": [
      "C:\\Users\\manis\\anaconda3\\Lib\\site-packages\\seaborn\\_oldcore.py:1119: FutureWarning: use_inf_as_na option is deprecated and will be removed in a future version. Convert inf values to NaN before operating instead.\n",
      "  with pd.option_context('mode.use_inf_as_na', True):\n"
     ]
    },
    {
     "data": {
      "image/png": "[encoded data removed]",
      "text/plain": [
       "<Figure size 640x480 with 1 Axes>"
      ]
     },
     "metadata": {},
     "output_type": "display_data"
    }
   ],
   "source": [
    "sns.histplot(df2['fare_amount'], kde = True)\n",
    "plt.show()"
   ]
  },
  {
   "cell_type": "code",
   "execution_count": 48,
   "id": "e311b177-809a-433c-9ce8-459e776d8c6f",
   "metadata": {},
   "outputs": [
    {
     "data": {
      "text/plain": [
       "1.9815579612136125"
      ]
     },
     "execution_count": 48,
     "metadata": {},
     "output_type": "execute_result"
    }
   ],
   "source": [
    "df2['fare_amount'].skew()"
   ]
  },
  {
   "cell_type": "code",
   "execution_count": 49,
   "id": "d692a234-4908-4db9-8001-d0b5dfe3add8",
   "metadata": {},
   "outputs": [],
   "source": [
    "y = df2['fare_amount']\n",
    "x = df2.drop(columns = ['fare_amount'])"
   ]
  },
  {
   "cell_type": "code",
   "execution_count": 50,
   "id": "4668c602-f1f1-4dd8-804f-3b1c45d1a675",
   "metadata": {},
   "outputs": [],
   "source": [
    "x_train, x_test, y_train, y_test = train_test_split(x, y, test_size = 0.3, random_state = 77)"
   ]
  },
  {
   "cell_type": "code",
   "execution_count": 51,
   "id": "d56317ba-b311-415b-b8ea-a89893e3dbfb",
   "metadata": {},
   "outputs": [],
   "source": [
    "LR = LinearRegression()"
   ]
  },
  {
   "cell_type": "code",
   "execution_count": 52,
   "id": "1c863387-2941-4b80-b2f3-d2597a6f971a",
   "metadata": {},
   "outputs": [
    {
     "data": {
      "text/html": [
       "<style>#sk-container-id-1 {color: black;background-color: white;}#sk-container-id-1 pre{padding: 0;}#sk-container-id-1 div.sk-toggleable {background-color: white;}#sk-container-id-1 label.sk-toggleable__label {cursor: pointer;display: block;width: 100%;margin-bottom: 0;padding: 0.3em;box-sizing: border-box;text-align: center;}#sk-container-id-1 label.sk-toggleable__label-arrow:before {content: \"▸\";float: left;margin-right: 0.25em;color: #696969;}#sk-container-id-1 label.sk-toggleable__label-arrow:hover:before {color: black;}#sk-container-id-1 div.sk-estimator:hover label.sk-toggleable__label-arrow:before {color: black;}#sk-container-id-1 div.sk-toggleable__content {max-height: 0;max-width: 0;overflow: hidden;text-align: left;background-color: #f0f8ff;}#sk-container-id-1 div.sk-toggleable__content pre {margin: 0.2em;color: black;border-radius: 0.25em;background-color: #f0f8ff;}#sk-container-id-1 input.sk-toggleable__control:checked~div.sk-toggleable__content {max-height: 200px;max-width: 100%;overflow: auto;}#sk-container-id-1 input.sk-toggleable__control:checked~label.sk-toggleable__label-arrow:before {content: \"▾\";}#sk-container-id-1 div.sk-estimator input.sk-toggleable__control:checked~label.sk-toggleable__label {background-color: #d4ebff;}#sk-container-id-1 div.sk-label input.sk-toggleable__control:checked~label.sk-toggleable__label {background-color: #d4ebff;}#sk-container-id-1 input.sk-hidden--visually {border: 0;clip: rect(1px 1px 1px 1px);clip: rect(1px, 1px, 1px, 1px);height: 1px;margin: -1px;overflow: hidden;padding: 0;position: absolute;width: 1px;}#sk-container-id-1 div.sk-estimator {font-family: monospace;background-color: #f0f8ff;border: 1px dotted black;border-radius: 0.25em;box-sizing: border-box;margin-bottom: 0.5em;}#sk-container-id-1 div.sk-estimator:hover {background-color: #d4ebff;}#sk-container-id-1 div.sk-parallel-item::after {content: \"\";width: 100%;border-bottom: 1px solid gray;flex-grow: 1;}#sk-container-id-1 div.sk-label:hover label.sk-toggleable__label {background-color: #d4ebff;}#sk-container-id-1 div.sk-serial::before {content: \"\";position: absolute;border-left: 1px solid gray;box-sizing: border-box;top: 0;bottom: 0;left: 50%;z-index: 0;}#sk-container-id-1 div.sk-serial {display: flex;flex-direction: column;align-items: center;background-color: white;padding-right: 0.2em;padding-left: 0.2em;position: relative;}#sk-container-id-1 div.sk-item {position: relative;z-index: 1;}#sk-container-id-1 div.sk-parallel {display: flex;align-items: stretch;justify-content: center;background-color: white;position: relative;}#sk-container-id-1 div.sk-item::before, #sk-container-id-1 div.sk-parallel-item::before {content: \"\";position: absolute;border-left: 1px solid gray;box-sizing: border-box;top: 0;bottom: 0;left: 50%;z-index: -1;}#sk-container-id-1 div.sk-parallel-item {display: flex;flex-direction: column;z-index: 1;position: relative;background-color: white;}#sk-container-id-1 div.sk-parallel-item:first-child::after {align-self: flex-end;width: 50%;}#sk-container-id-1 div.sk-parallel-item:last-child::after {align-self: flex-start;width: 50%;}#sk-container-id-1 div.sk-parallel-item:only-child::after {width: 0;}#sk-container-id-1 div.sk-dashed-wrapped {border: 1px dashed gray;margin: 0 0.4em 0.5em 0.4em;box-sizing: border-box;padding-bottom: 0.4em;background-color: white;}#sk-container-id-1 div.sk-label label {font-family: monospace;font-weight: bold;display: inline-block;line-height: 1.2em;}#sk-container-id-1 div.sk-label-container {text-align: center;}#sk-container-id-1 div.sk-container {/* jupyter's `normalize.less` sets `[hidden] { display: none; }` but bootstrap.min.css set `[hidden] { display: none !important; }` so we also need the `!important` here to be able to override the default hidden behavior on the sphinx rendered scikit-learn.org. See: https://github.com/scikit-learn/scikit-learn/issues/21755 */display: inline-block !important;position: relative;}#sk-container-id-1 div.sk-text-repr-fallback {display: none;}</style><div id=\"sk-container-id-1\" class=\"sk-top-container\"><div class=\"sk-text-repr-fallback\"><pre>LinearRegression()</pre><b>In a Jupyter environment, please rerun this cell to show the HTML representation or trust the notebook. <br />On GitHub, the HTML representation is unable to render, please try loading this page with nbviewer.org.</b></div><div class=\"sk-container\" hidden><div class=\"sk-item\"><div class=\"sk-estimator sk-toggleable\"><input class=\"sk-toggleable__control sk-hidden--visually\" id=\"sk-estimator-id-1\" type=\"checkbox\" checked><label for=\"sk-estimator-id-1\" class=\"sk-toggleable__label sk-toggleable__label-arrow\">LinearRegression</label><div class=\"sk-toggleable__content\"><pre>LinearRegression()</pre></div></div></div></div></div>"
      ],
      "text/plain": [
       "LinearRegression()"
      ]
     },
     "execution_count": 52,
     "metadata": {},
     "output_type": "execute_result"
    }
   ],
   "source": [
    "LR.fit(x_train, y_train)"
   ]
  },
  {
   "cell_type": "code",
   "execution_count": 53,
   "id": "1f5ee783-f874-4dda-94f0-ee6ff33c355a",
   "metadata": {},
   "outputs": [],
   "source": [
    "pred_train = LR.predict(x_train)\n",
    "pred_test = LR.predict(x_test)"
   ]
  },
  {
   "cell_type": "code",
   "execution_count": 54,
   "id": "634614b3-8ce8-42e0-ab92-26881fc11b27",
   "metadata": {},
   "outputs": [
    {
     "name": "stdout",
     "output_type": "stream",
     "text": [
      "train MSE: 31.532931121404044\n"
     ]
    }
   ],
   "source": [
    "train_mse = metrics.mean_squared_error(y_train, pred_train)\n",
    "print(f'train MSE: {train_mse}')"
   ]
  },
  {
   "cell_type": "code",
   "execution_count": 55,
   "id": "0573aabe-498a-4e55-879b-d85391a9c853",
   "metadata": {},
   "outputs": [
    {
     "name": "stdout",
     "output_type": "stream",
     "text": [
      "test MSE: 27.957846334619113\n"
     ]
    }
   ],
   "source": [
    "test_mse =metrics.mean_squared_error(y_test, pred_test)\n",
    "print(f'test MSE: {test_mse}')"
   ]
  },
  {
   "cell_type": "code",
   "execution_count": 56,
   "id": "3373f26c-3d53-4d35-8c2b-dbb676554924",
   "metadata": {},
   "outputs": [
    {
     "name": "stdout",
     "output_type": "stream",
     "text": [
      "train R2: 0.8821771690868987\n"
     ]
    }
   ],
   "source": [
    "train_r2 =metrics.r2_score(y_train, pred_train)\n",
    "print(f'train R2: {train_r2}')"
   ]
  },
  {
   "cell_type": "code",
   "execution_count": 57,
   "id": "dae55e53-7aeb-4da1-90b4-47ea9c2f3f8c",
   "metadata": {},
   "outputs": [
    {
     "name": "stdout",
     "output_type": "stream",
     "text": [
      "test R2: 0.8941174919956811\n"
     ]
    }
   ],
   "source": [
    "test_r2= metrics.r2_score(y_test, pred_test)\n",
    "print(f'test R2: {test_r2}')"
   ]
  },
  {
   "cell_type": "code",
   "execution_count": null,
   "id": "922c93a3-a62f-4ea3-a5a7-8bfbc24cf24f",
   "metadata": {},
   "outputs": [],
   "source": []
  },
  {
   "cell_type": "markdown",
   "id": "22e36812-3971-42af-94e9-cd3a4068794d",
   "metadata": {},
   "source": [
    "## Feature Selection"
   ]
  },
  {
   "cell_type": "code",
   "execution_count": 58,
   "id": "cf50ccae-4781-4d9e-afaa-40cac6b2b0b4",
   "metadata": {},
   "outputs": [
    {
     "name": "stdout",
     "output_type": "stream",
     "text": [
      "Fitting estimator with 11 features.\n",
      "Fitting estimator with 10 features.\n"
     ]
    }
   ],
   "source": [
    "LR1 = LinearRegression()\n",
    "LR1.fit(x_train, y_train)\n",
    "rfe = RFE(LR1, n_features_to_select = 9, verbose = 3)\n",
    "rfe = rfe.fit(x_train, y_train)"
   ]
  },
  {
   "cell_type": "code",
   "execution_count": 59,
   "id": "024f40e6-5aad-494d-9d6e-8d7efec5f8a6",
   "metadata": {},
   "outputs": [
    {
     "data": {
      "text/plain": [
       "[('VendorID', True, 1),\n",
       " ('passenger_count', True, 1),\n",
       " ('trip_distance', True, 1),\n",
       " ('RatecodeID', True, 1),\n",
       " ('PULocationID', False, 3),\n",
       " ('DOLocationID', True, 1),\n",
       " ('payment_type', True, 1),\n",
       " ('pickup_hour', True, 1),\n",
       " ('pickup_minute', False, 2),\n",
       " ('pickup_day', True, 1),\n",
       " ('trip_duration', True, 1)]"
      ]
     },
     "execution_count": 59,
     "metadata": {},
     "output_type": "execute_result"
    }
   ],
   "source": [
    "list(zip(x_train.columns, rfe.support_, rfe.ranking_))"
   ]
  },
  {
   "cell_type": "code",
   "execution_count": 60,
   "id": "b4cc9340-ff00-4665-ae67-9dd80bfdf3ae",
   "metadata": {},
   "outputs": [
    {
     "data": {
      "text/plain": [
       "TtestResult(statistic=4113.153655406381, pvalue=0.0, df=7165254.0)"
      ]
     },
     "execution_count": 60,
     "metadata": {},
     "output_type": "execute_result"
    }
   ],
   "source": [
    "stats.ttest_ind(df['PULocationID'], df['fare_amount'])"
   ]
  },
  {
   "cell_type": "code",
   "execution_count": 61,
   "id": "ba9fc73d-10d8-4d34-8ea1-796acb3d3c9e",
   "metadata": {},
   "outputs": [],
   "source": [
    "from statsmodels.stats.stattools import durbin_watson"
   ]
  },
  {
   "cell_type": "code",
   "execution_count": 62,
   "id": "75b764a1-3fac-4e3a-bdbc-0ffc319c62b2",
   "metadata": {},
   "outputs": [
    {
     "data": {
      "text/plain": [
       "0.25075892653806336"
      ]
     },
     "execution_count": 62,
     "metadata": {},
     "output_type": "execute_result"
    }
   ],
   "source": [
    "durbin_watson(df2['PULocationID'])"
   ]
  },
  {
   "cell_type": "code",
   "execution_count": 63,
   "id": "5804fff2-a857-4fc1-a5c5-c87d16b2237a",
   "metadata": {},
   "outputs": [
    {
     "data": {
      "text/plain": [
       "Index(['VendorID', 'passenger_count', 'trip_distance', 'RatecodeID',\n",
       "       'DOLocationID', 'payment_type', 'pickup_hour', 'pickup_day',\n",
       "       'trip_duration'],\n",
       "      dtype='object')"
      ]
     },
     "execution_count": 63,
     "metadata": {},
     "output_type": "execute_result"
    }
   ],
   "source": [
    "x_train.columns[rfe.support_]"
   ]
  },
  {
   "cell_type": "code",
   "execution_count": 64,
   "id": "dbb23345-4f89-4701-9c05-0626115940cd",
   "metadata": {},
   "outputs": [],
   "source": [
    "x_train1 = x_train[['VendorID', 'passenger_count', 'trip_distance', 'RatecodeID',\n",
    "       'payment_type', 'pickup_hour', 'pickup_minute', 'pickup_day',\n",
    "       'trip_duration']]\n",
    "x_test1 = x_test[['VendorID', 'passenger_count', 'trip_distance', 'RatecodeID',\n",
    "       'payment_type', 'pickup_hour', 'pickup_minute', 'pickup_day',\n",
    "       'trip_duration']]"
   ]
  },
  {
   "cell_type": "code",
   "execution_count": 65,
   "id": "831ef2f9-6fe7-43b7-b4d4-52c3a1f3d7ef",
   "metadata": {},
   "outputs": [
    {
     "data": {
      "text/html": [
       "<style>#sk-container-id-2 {color: black;background-color: white;}#sk-container-id-2 pre{padding: 0;}#sk-container-id-2 div.sk-toggleable {background-color: white;}#sk-container-id-2 label.sk-toggleable__label {cursor: pointer;display: block;width: 100%;margin-bottom: 0;padding: 0.3em;box-sizing: border-box;text-align: center;}#sk-container-id-2 label.sk-toggleable__label-arrow:before {content: \"▸\";float: left;margin-right: 0.25em;color: #696969;}#sk-container-id-2 label.sk-toggleable__label-arrow:hover:before {color: black;}#sk-container-id-2 div.sk-estimator:hover label.sk-toggleable__label-arrow:before {color: black;}#sk-container-id-2 div.sk-toggleable__content {max-height: 0;max-width: 0;overflow: hidden;text-align: left;background-color: #f0f8ff;}#sk-container-id-2 div.sk-toggleable__content pre {margin: 0.2em;color: black;border-radius: 0.25em;background-color: #f0f8ff;}#sk-container-id-2 input.sk-toggleable__control:checked~div.sk-toggleable__content {max-height: 200px;max-width: 100%;overflow: auto;}#sk-container-id-2 input.sk-toggleable__control:checked~label.sk-toggleable__label-arrow:before {content: \"▾\";}#sk-container-id-2 div.sk-estimator input.sk-toggleable__control:checked~label.sk-toggleable__label {background-color: #d4ebff;}#sk-container-id-2 div.sk-label input.sk-toggleable__control:checked~label.sk-toggleable__label {background-color: #d4ebff;}#sk-container-id-2 input.sk-hidden--visually {border: 0;clip: rect(1px 1px 1px 1px);clip: rect(1px, 1px, 1px, 1px);height: 1px;margin: -1px;overflow: hidden;padding: 0;position: absolute;width: 1px;}#sk-container-id-2 div.sk-estimator {font-family: monospace;background-color: #f0f8ff;border: 1px dotted black;border-radius: 0.25em;box-sizing: border-box;margin-bottom: 0.5em;}#sk-container-id-2 div.sk-estimator:hover {background-color: #d4ebff;}#sk-container-id-2 div.sk-parallel-item::after {content: \"\";width: 100%;border-bottom: 1px solid gray;flex-grow: 1;}#sk-container-id-2 div.sk-label:hover label.sk-toggleable__label {background-color: #d4ebff;}#sk-container-id-2 div.sk-serial::before {content: \"\";position: absolute;border-left: 1px solid gray;box-sizing: border-box;top: 0;bottom: 0;left: 50%;z-index: 0;}#sk-container-id-2 div.sk-serial {display: flex;flex-direction: column;align-items: center;background-color: white;padding-right: 0.2em;padding-left: 0.2em;position: relative;}#sk-container-id-2 div.sk-item {position: relative;z-index: 1;}#sk-container-id-2 div.sk-parallel {display: flex;align-items: stretch;justify-content: center;background-color: white;position: relative;}#sk-container-id-2 div.sk-item::before, #sk-container-id-2 div.sk-parallel-item::before {content: \"\";position: absolute;border-left: 1px solid gray;box-sizing: border-box;top: 0;bottom: 0;left: 50%;z-index: -1;}#sk-container-id-2 div.sk-parallel-item {display: flex;flex-direction: column;z-index: 1;position: relative;background-color: white;}#sk-container-id-2 div.sk-parallel-item:first-child::after {align-self: flex-end;width: 50%;}#sk-container-id-2 div.sk-parallel-item:last-child::after {align-self: flex-start;width: 50%;}#sk-container-id-2 div.sk-parallel-item:only-child::after {width: 0;}#sk-container-id-2 div.sk-dashed-wrapped {border: 1px dashed gray;margin: 0 0.4em 0.5em 0.4em;box-sizing: border-box;padding-bottom: 0.4em;background-color: white;}#sk-container-id-2 div.sk-label label {font-family: monospace;font-weight: bold;display: inline-block;line-height: 1.2em;}#sk-container-id-2 div.sk-label-container {text-align: center;}#sk-container-id-2 div.sk-container {/* jupyter's `normalize.less` sets `[hidden] { display: none; }` but bootstrap.min.css set `[hidden] { display: none !important; }` so we also need the `!important` here to be able to override the default hidden behavior on the sphinx rendered scikit-learn.org. See: https://github.com/scikit-learn/scikit-learn/issues/21755 */display: inline-block !important;position: relative;}#sk-container-id-2 div.sk-text-repr-fallback {display: none;}</style><div id=\"sk-container-id-2\" class=\"sk-top-container\"><div class=\"sk-text-repr-fallback\"><pre>LinearRegression()</pre><b>In a Jupyter environment, please rerun this cell to show the HTML representation or trust the notebook. <br />On GitHub, the HTML representation is unable to render, please try loading this page with nbviewer.org.</b></div><div class=\"sk-container\" hidden><div class=\"sk-item\"><div class=\"sk-estimator sk-toggleable\"><input class=\"sk-toggleable__control sk-hidden--visually\" id=\"sk-estimator-id-2\" type=\"checkbox\" checked><label for=\"sk-estimator-id-2\" class=\"sk-toggleable__label sk-toggleable__label-arrow\">LinearRegression</label><div class=\"sk-toggleable__content\"><pre>LinearRegression()</pre></div></div></div></div></div>"
      ],
      "text/plain": [
       "LinearRegression()"
      ]
     },
     "execution_count": 65,
     "metadata": {},
     "output_type": "execute_result"
    }
   ],
   "source": [
    "LR3 = LinearRegression()\n",
    "LR3.fit(x_train1, y_train)"
   ]
  },
  {
   "cell_type": "code",
   "execution_count": 66,
   "id": "335228dd-bf79-4062-8e04-1b9182a47684",
   "metadata": {},
   "outputs": [],
   "source": [
    "pred_train1 = LR3.predict(x_train1)\n",
    "pred_test1 = LR3.predict(x_test1)"
   ]
  },
  {
   "cell_type": "code",
   "execution_count": 67,
   "id": "e963f41f-66f9-44d8-9e67-9a5ef6396109",
   "metadata": {},
   "outputs": [
    {
     "name": "stdout",
     "output_type": "stream",
     "text": [
      "train MSE: 31.568508211715546\n"
     ]
    }
   ],
   "source": [
    "train_mse = metrics.mean_squared_error(y_train, pred_train1)\n",
    "print(f'train MSE: {train_mse}')"
   ]
  },
  {
   "cell_type": "code",
   "execution_count": 68,
   "id": "aa794461-f1b3-4d66-a591-5f22e04851d9",
   "metadata": {},
   "outputs": [
    {
     "name": "stdout",
     "output_type": "stream",
     "text": [
      "test MSE: 27.951562662152945\n"
     ]
    }
   ],
   "source": [
    "test_mse =metrics.mean_squared_error(y_test, pred_test1)\n",
    "print(f'test MSE: {test_mse}')"
   ]
  },
  {
   "cell_type": "code",
   "execution_count": 69,
   "id": "e690affb-7dac-49ac-b623-07e511ce2de9",
   "metadata": {},
   "outputs": [
    {
     "name": "stdout",
     "output_type": "stream",
     "text": [
      "train R2: 0.8821771690868987\n"
     ]
    }
   ],
   "source": [
    "train_r2 =metrics.r2_score(y_train, pred_train)\n",
    "print(f'train R2: {train_r2}')"
   ]
  },
  {
   "cell_type": "code",
   "execution_count": 70,
   "id": "e587ecdd-ce1c-4efe-8d46-281e78aff808",
   "metadata": {},
   "outputs": [
    {
     "name": "stdout",
     "output_type": "stream",
     "text": [
      "test R2: 0.8941174919956811\n"
     ]
    }
   ],
   "source": [
    "test_r2= metrics.r2_score(y_test, pred_test)\n",
    "print(f'test R2: {test_r2}')"
   ]
  },
  {
   "cell_type": "code",
   "execution_count": null,
   "id": "e7610def-150c-4f20-a4bd-b683ba8a8d12",
   "metadata": {},
   "outputs": [],
   "source": []
  },
  {
   "cell_type": "code",
   "execution_count": 71,
   "id": "ea5e55ae-a475-45fb-8318-9555ae78a530",
   "metadata": {},
   "outputs": [
    {
     "name": "stdout",
     "output_type": "stream",
     "text": [
      "Fitting estimator with 9 features.\n",
      "Fitting estimator with 8 features.\n"
     ]
    }
   ],
   "source": [
    "LR1 = LinearRegression()\n",
    "LR1.fit(x_train1, y_train)\n",
    "rfe = RFE(LR1, n_features_to_select = 7, verbose = 3)\n",
    "rfe = rfe.fit(x_train1, y_train)"
   ]
  },
  {
   "cell_type": "code",
   "execution_count": 72,
   "id": "042abb4f-5949-4e77-9b7f-1517271acab9",
   "metadata": {},
   "outputs": [
    {
     "data": {
      "text/plain": [
       "Index(['VendorID', 'passenger_count', 'trip_distance', 'RatecodeID',\n",
       "       'payment_type', 'pickup_hour', 'trip_duration'],\n",
       "      dtype='object')"
      ]
     },
     "execution_count": 72,
     "metadata": {},
     "output_type": "execute_result"
    }
   ],
   "source": [
    "x_train1.columns[rfe.support_]"
   ]
  },
  {
   "cell_type": "code",
   "execution_count": 73,
   "id": "b8f67b5f-5330-4bc4-af6a-a6285d4bc451",
   "metadata": {},
   "outputs": [],
   "source": [
    "x_train2 = x_train1[['VendorID', 'passenger_count', 'trip_distance', 'RatecodeID',\n",
    "       'payment_type', 'pickup_hour', 'trip_duration']]\n",
    "x_test2 = x_test1[['VendorID', 'passenger_count', 'trip_distance', 'RatecodeID',\n",
    "       'payment_type', 'pickup_hour', 'trip_duration']]"
   ]
  },
  {
   "cell_type": "code",
   "execution_count": 74,
   "id": "633b03e6-1b7f-4c51-9496-2419d8325aa6",
   "metadata": {},
   "outputs": [
    {
     "data": {
      "text/html": [
       "<style>#sk-container-id-3 {color: black;background-color: white;}#sk-container-id-3 pre{padding: 0;}#sk-container-id-3 div.sk-toggleable {background-color: white;}#sk-container-id-3 label.sk-toggleable__label {cursor: pointer;display: block;width: 100%;margin-bottom: 0;padding: 0.3em;box-sizing: border-box;text-align: center;}#sk-container-id-3 label.sk-toggleable__label-arrow:before {content: \"▸\";float: left;margin-right: 0.25em;color: #696969;}#sk-container-id-3 label.sk-toggleable__label-arrow:hover:before {color: black;}#sk-container-id-3 div.sk-estimator:hover label.sk-toggleable__label-arrow:before {color: black;}#sk-container-id-3 div.sk-toggleable__content {max-height: 0;max-width: 0;overflow: hidden;text-align: left;background-color: #f0f8ff;}#sk-container-id-3 div.sk-toggleable__content pre {margin: 0.2em;color: black;border-radius: 0.25em;background-color: #f0f8ff;}#sk-container-id-3 input.sk-toggleable__control:checked~div.sk-toggleable__content {max-height: 200px;max-width: 100%;overflow: auto;}#sk-container-id-3 input.sk-toggleable__control:checked~label.sk-toggleable__label-arrow:before {content: \"▾\";}#sk-container-id-3 div.sk-estimator input.sk-toggleable__control:checked~label.sk-toggleable__label {background-color: #d4ebff;}#sk-container-id-3 div.sk-label input.sk-toggleable__control:checked~label.sk-toggleable__label {background-color: #d4ebff;}#sk-container-id-3 input.sk-hidden--visually {border: 0;clip: rect(1px 1px 1px 1px);clip: rect(1px, 1px, 1px, 1px);height: 1px;margin: -1px;overflow: hidden;padding: 0;position: absolute;width: 1px;}#sk-container-id-3 div.sk-estimator {font-family: monospace;background-color: #f0f8ff;border: 1px dotted black;border-radius: 0.25em;box-sizing: border-box;margin-bottom: 0.5em;}#sk-container-id-3 div.sk-estimator:hover {background-color: #d4ebff;}#sk-container-id-3 div.sk-parallel-item::after {content: \"\";width: 100%;border-bottom: 1px solid gray;flex-grow: 1;}#sk-container-id-3 div.sk-label:hover label.sk-toggleable__label {background-color: #d4ebff;}#sk-container-id-3 div.sk-serial::before {content: \"\";position: absolute;border-left: 1px solid gray;box-sizing: border-box;top: 0;bottom: 0;left: 50%;z-index: 0;}#sk-container-id-3 div.sk-serial {display: flex;flex-direction: column;align-items: center;background-color: white;padding-right: 0.2em;padding-left: 0.2em;position: relative;}#sk-container-id-3 div.sk-item {position: relative;z-index: 1;}#sk-container-id-3 div.sk-parallel {display: flex;align-items: stretch;justify-content: center;background-color: white;position: relative;}#sk-container-id-3 div.sk-item::before, #sk-container-id-3 div.sk-parallel-item::before {content: \"\";position: absolute;border-left: 1px solid gray;box-sizing: border-box;top: 0;bottom: 0;left: 50%;z-index: -1;}#sk-container-id-3 div.sk-parallel-item {display: flex;flex-direction: column;z-index: 1;position: relative;background-color: white;}#sk-container-id-3 div.sk-parallel-item:first-child::after {align-self: flex-end;width: 50%;}#sk-container-id-3 div.sk-parallel-item:last-child::after {align-self: flex-start;width: 50%;}#sk-container-id-3 div.sk-parallel-item:only-child::after {width: 0;}#sk-container-id-3 div.sk-dashed-wrapped {border: 1px dashed gray;margin: 0 0.4em 0.5em 0.4em;box-sizing: border-box;padding-bottom: 0.4em;background-color: white;}#sk-container-id-3 div.sk-label label {font-family: monospace;font-weight: bold;display: inline-block;line-height: 1.2em;}#sk-container-id-3 div.sk-label-container {text-align: center;}#sk-container-id-3 div.sk-container {/* jupyter's `normalize.less` sets `[hidden] { display: none; }` but bootstrap.min.css set `[hidden] { display: none !important; }` so we also need the `!important` here to be able to override the default hidden behavior on the sphinx rendered scikit-learn.org. See: https://github.com/scikit-learn/scikit-learn/issues/21755 */display: inline-block !important;position: relative;}#sk-container-id-3 div.sk-text-repr-fallback {display: none;}</style><div id=\"sk-container-id-3\" class=\"sk-top-container\"><div class=\"sk-text-repr-fallback\"><pre>LinearRegression()</pre><b>In a Jupyter environment, please rerun this cell to show the HTML representation or trust the notebook. <br />On GitHub, the HTML representation is unable to render, please try loading this page with nbviewer.org.</b></div><div class=\"sk-container\" hidden><div class=\"sk-item\"><div class=\"sk-estimator sk-toggleable\"><input class=\"sk-toggleable__control sk-hidden--visually\" id=\"sk-estimator-id-3\" type=\"checkbox\" checked><label for=\"sk-estimator-id-3\" class=\"sk-toggleable__label sk-toggleable__label-arrow\">LinearRegression</label><div class=\"sk-toggleable__content\"><pre>LinearRegression()</pre></div></div></div></div></div>"
      ],
      "text/plain": [
       "LinearRegression()"
      ]
     },
     "execution_count": 74,
     "metadata": {},
     "output_type": "execute_result"
    }
   ],
   "source": [
    "LR4 = LinearRegression()\n",
    "LR4.fit(x_train2, y_train)\n"
   ]
  },
  {
   "cell_type": "code",
   "execution_count": 75,
   "id": "8d8ba0f0-c699-4d18-b19e-f553bd6b5f38",
   "metadata": {},
   "outputs": [],
   "source": [
    "pred_train2 = LR4.predict(x_train2)\n",
    "pred_test2 = LR4.predict(x_test2)"
   ]
  },
  {
   "cell_type": "code",
   "execution_count": 76,
   "id": "8773afc0-80e2-4232-b680-d6913531eb35",
   "metadata": {},
   "outputs": [
    {
     "name": "stdout",
     "output_type": "stream",
     "text": [
      "train MSE: 31.586804312887832\n"
     ]
    }
   ],
   "source": [
    "train_mse = metrics.mean_squared_error(y_train, pred_train2)\n",
    "print(f'train MSE: {train_mse}')"
   ]
  },
  {
   "cell_type": "code",
   "execution_count": 77,
   "id": "4a9e54e6-d6b4-4dc0-b0fd-b1d35ab42086",
   "metadata": {},
   "outputs": [
    {
     "name": "stdout",
     "output_type": "stream",
     "text": [
      "test MSE: 27.96009125225778\n"
     ]
    }
   ],
   "source": [
    "test_mse =metrics.mean_squared_error(y_test, pred_test2)\n",
    "print(f'test MSE: {test_mse}')"
   ]
  },
  {
   "cell_type": "code",
   "execution_count": 78,
   "id": "0c19f67f-47fc-42ef-b9d9-0dd8dea0d00a",
   "metadata": {},
   "outputs": [
    {
     "name": "stdout",
     "output_type": "stream",
     "text": [
      "train R2: 0.8819758718492108\n"
     ]
    }
   ],
   "source": [
    "train_r2 =metrics.r2_score(y_train, pred_train2)\n",
    "print(f'train R2: {train_r2}')"
   ]
  },
  {
   "cell_type": "code",
   "execution_count": 79,
   "id": "1ba322fe-666e-43ee-91db-0bebc7f4cd47",
   "metadata": {},
   "outputs": [
    {
     "name": "stdout",
     "output_type": "stream",
     "text": [
      "test R2: 0.8941089899992469\n"
     ]
    }
   ],
   "source": [
    "test_r2= metrics.r2_score(y_test, pred_test2)\n",
    "print(f'test R2: {test_r2}')"
   ]
  },
  {
   "cell_type": "code",
   "execution_count": null,
   "id": "83e13ca1-f629-4c55-b943-59586aabb4d4",
   "metadata": {},
   "outputs": [],
   "source": []
  },
  {
   "cell_type": "code",
   "execution_count": null,
   "id": "e962a10a-59ce-46c4-ae1d-f1bb066ced06",
   "metadata": {},
   "outputs": [],
   "source": []
  }
 ],
 "metadata": {
  "kernelspec": {
   "display_name": "Python 3 (ipykernel)",
   "language": "python",
   "name": "python3"
  },
  "language_info": {
   "codemirror_mode": {
    "name": "ipython",
    "version": 3
   },
   "file_extension": ".py",
   "mimetype": "text/x-python",
   "name": "python",
   "nbconvert_exporter": "python",
   "pygments_lexer": "ipython3",
   "version": "3.11.7"
  }
 },
 "nbformat": 4,
 "nbformat_minor": 5
}
